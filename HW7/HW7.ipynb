{
 "cells": [
  {
   "cell_type": "markdown",
   "metadata": {},
   "source": [
    "Before you turn this problem in, make sure everything runs as expected. First, **restart the kernel** (in the menubar, select Kernel$\\rightarrow$Restart) and then **run all cells** (in the menubar, select Cell$\\rightarrow$Run All).\n",
    "\n",
    "Make sure you fill in any place that says `YOUR CODE HERE` or \"YOUR ANSWER HERE\", as well as your name and collaborators below:"
   ]
  },
  {
   "cell_type": "code",
   "execution_count": 1,
   "metadata": {},
   "outputs": [],
   "source": [
    "NAME = \"Madison Chester\"\n",
    "COLLABORATORS = \"\""
   ]
  },
  {
   "cell_type": "markdown",
   "metadata": {},
   "source": [
    "---"
   ]
  },
  {
   "cell_type": "code",
   "execution_count": 2,
   "metadata": {
    "deletable": false,
    "editable": false,
    "nbgrader": {
     "cell_type": "code",
     "checksum": "3b25845a742e4ff968c56b8731775451",
     "grade": false,
     "grade_id": "cell-4b7c8d0e59917c10",
     "locked": true,
     "schema_version": 3,
     "solution": false,
     "task": false
    }
   },
   "outputs": [],
   "source": [
    "##this is used for testing; run this first\n",
    "import numpy as np\n",
    "import math\n",
    "import types\n",
    "from nose.tools import assert_equal, assert_raises\n",
    "import scipy.stats, scipy.special"
   ]
  },
  {
   "cell_type": "markdown",
   "metadata": {
    "deletable": false,
    "editable": false,
    "nbgrader": {
     "cell_type": "markdown",
     "checksum": "bf87dd5efbf33635942ef666413dfbdd",
     "grade": false,
     "grade_id": "cell-3c4fd5bceb1ceab4",
     "locked": true,
     "schema_version": 3,
     "solution": false,
     "task": false
    }
   },
   "source": [
    "\n",
    "## Question 1\n",
    "\n",
    "Let $X$ be a random variable with density\n",
    "\n",
    "$f(x) = \\begin{cases}C(4x-x^2) &, 0\\leq x \\leq 3 \\\\ \n",
    "\\hspace{.7cm} 0 &, \\text{otherwise} \\end{cases}$\n",
    "\n",
    "where 𝐶∈𝐑 is some constant.\n",
    "\n",
    "**Draw the graph of this piece-wise density function. This always helps a great deal, when computing values of various atributes of the distribution of $X$. It also helps to spot a possible error in computation, since often you can tell based on the graph of the density function whether certain computed value is plausible or doesn't make any sense.**\n",
    "\n",
    "<br>\n",
    "\n",
    "\n",
    "### Part a)\n",
    "\n",
    "Find the constant $C$.\n",
    "\n",
    "Write your answer as\n",
    "\n",
    "`C = <some expression>`\n",
    "\n",
    "For example, if you think the answer is ${12 \\over 34}$ you should create variable C as\n",
    "\n",
    "`C = 12/34`\n",
    "\n",
    "**IMPORTANT:** Just typing `12/34`, or `answer = 12/34` is not acceptable. Your answer will be graded automatically, and the test code expects you to create a Python variable called `C`, and the code will test the value of `C`. Do not round your answer.\n"
   ]
  },
  {
   "cell_type": "code",
   "execution_count": 3,
   "metadata": {
    "deletable": false,
    "nbgrader": {
     "cell_type": "code",
     "checksum": "68003e0db3ac8c9d588db02ada7e373e",
     "grade": false,
     "grade_id": "cell-7a9a738d84913a50",
     "locked": false,
     "schema_version": 3,
     "solution": true,
     "task": false
    }
   },
   "outputs": [],
   "source": [
    "\n",
    "C = 1/9\n"
   ]
  },
  {
   "cell_type": "code",
   "execution_count": 4,
   "metadata": {
    "deletable": false,
    "editable": false,
    "nbgrader": {
     "cell_type": "code",
     "checksum": "839200da3501fab99a2af9ad6ba7ce6c",
     "grade": true,
     "grade_id": "cell-235755a990d38276",
     "locked": true,
     "points": 1,
     "schema_version": 3,
     "solution": false,
     "task": false
    }
   },
   "outputs": [],
   "source": [
    "\"\"\"Check whether C is numeric (integer or float)\"\"\"\n",
    "\n",
    "assert type(C) in {int, float}  ,  \"Sorry, C is not numeric variable\""
   ]
  },
  {
   "cell_type": "code",
   "execution_count": 5,
   "metadata": {
    "deletable": false,
    "editable": false,
    "nbgrader": {
     "cell_type": "code",
     "checksum": "eea69d58b2866bb474eac882d1033d72",
     "grade": true,
     "grade_id": "cell-ba5e7e0e4c08d1a0",
     "locked": true,
     "points": 2,
     "schema_version": 3,
     "solution": false,
     "task": false
    }
   },
   "outputs": [],
   "source": [
    "\"\"\"Check whether in the 5th and 6th decimal place are 1 and 1, respectively\"\"\"\n",
    "\n",
    "assert np.mod(int(np.floor(C*10**6)),100) == 11,  \"Sorry, wrong answer\"\n"
   ]
  },
  {
   "cell_type": "code",
   "execution_count": 6,
   "metadata": {
    "deletable": false,
    "editable": false,
    "nbgrader": {
     "cell_type": "code",
     "checksum": "2dfeb39b2cb807d1940dd47162f94e6c",
     "grade": true,
     "grade_id": "cell-9c83f1f348fa35fa",
     "locked": true,
     "points": 7,
     "schema_version": 3,
     "solution": false,
     "task": false
    }
   },
   "outputs": [
    {
     "data": {
      "text/plain": [
       "'Check whether the answer is correct (hidden test)'"
      ]
     },
     "execution_count": 6,
     "metadata": {},
     "output_type": "execute_result"
    }
   ],
   "source": [
    "\"\"\"Check whether the answer is correct (hidden test)\"\"\"\n"
   ]
  },
  {
   "cell_type": "markdown",
   "metadata": {
    "deletable": false,
    "editable": false,
    "nbgrader": {
     "cell_type": "markdown",
     "checksum": "1a652550ba72e0935720ddda6465a22d",
     "grade": false,
     "grade_id": "cell-35ad99c090648cbc",
     "locked": true,
     "schema_version": 3,
     "solution": false,
     "task": false
    }
   },
   "source": [
    "\n",
    "### Part b)\n",
    "\n",
    "Find the cumulative distribution function (cdf) of $X$. Create a python function $F(x)$, which for any input $x\\in \\mathbf{R}$, returns the value of the cdf, i.e. $P(X\\leq x)$. Do NOT round the output value.\n"
   ]
  },
  {
   "cell_type": "code",
   "execution_count": 7,
   "metadata": {
    "deletable": false,
    "nbgrader": {
     "cell_type": "code",
     "checksum": "b55f283cb63986a9e684b91c2700d368",
     "grade": false,
     "grade_id": "cell-b594985081bb500a",
     "locked": false,
     "schema_version": 3,
     "solution": true,
     "task": false
    }
   },
   "outputs": [],
   "source": [
    "\n",
    "def F(x):\n",
    "    if x > 3: \n",
    "        return 1\n",
    "    return (1/9)*(2*x**2 - (1/3)*x**3)\n",
    "\n"
   ]
  },
  {
   "cell_type": "code",
   "execution_count": 8,
   "metadata": {
    "deletable": false,
    "editable": false,
    "nbgrader": {
     "cell_type": "code",
     "checksum": "fd5f2003af91e65c35ac1920f2d06a13",
     "grade": true,
     "grade_id": "cell-214b8e292322dbb3",
     "locked": true,
     "points": 1,
     "schema_version": 3,
     "solution": false,
     "task": false
    }
   },
   "outputs": [],
   "source": [
    "\"\"\"Check whether function F is defined and has input parameter x, and whether F(1234)=1\"\"\"\n",
    "\n",
    "assert callable(F)  , \"Sorry, F is not defined\"\n",
    "assert (F(x=1234) == 1)  , \"\"\n"
   ]
  },
  {
   "cell_type": "code",
   "execution_count": 9,
   "metadata": {
    "deletable": false,
    "editable": false,
    "nbgrader": {
     "cell_type": "code",
     "checksum": "b3e73dfb6624369903f200ed2143a31b",
     "grade": true,
     "grade_id": "cell-238090db5fe3180a",
     "locked": true,
     "points": 1,
     "schema_version": 3,
     "solution": false,
     "task": false
    }
   },
   "outputs": [],
   "source": [
    "\"\"\"Check whether F(1.54) = 0.39175318518518515\"\"\"\n",
    "\n",
    "assert abs(F(1.54) - 0.39175318518518515) < 1e-8,  \"Sorry, wrong answer\""
   ]
  },
  {
   "cell_type": "code",
   "execution_count": 10,
   "metadata": {
    "deletable": false,
    "editable": false,
    "nbgrader": {
     "cell_type": "code",
     "checksum": "b6aefaf313d71c36f1757cd6b4e1bddb",
     "grade": true,
     "grade_id": "cell-b0ab0a3a503bafb4",
     "locked": true,
     "points": 1,
     "schema_version": 3,
     "solution": false,
     "task": false
    }
   },
   "outputs": [],
   "source": [
    "\"\"\"Check whether in the 5th and 6th decimal place of F(2) are 9 and 2, respectively\"\"\"\n",
    "\n",
    "assert np.mod(int(np.floor(F(2)*10**6)),100) == 92,  \"Sorry, wrong answer\""
   ]
  },
  {
   "cell_type": "code",
   "execution_count": 11,
   "metadata": {
    "deletable": false,
    "editable": false,
    "nbgrader": {
     "cell_type": "code",
     "checksum": "05f565d5a5f84bb2633b9985ed5add0e",
     "grade": true,
     "grade_id": "cell-87fa9127b01b381f",
     "locked": true,
     "points": 5,
     "schema_version": 3,
     "solution": false,
     "task": false
    }
   },
   "outputs": [
    {
     "data": {
      "text/plain": [
       "'Check whether the answer is correct for some inputs (hidden test)'"
      ]
     },
     "execution_count": 11,
     "metadata": {},
     "output_type": "execute_result"
    }
   ],
   "source": [
    "\"\"\"Check whether the answer is correct for some inputs (hidden test)\"\"\"\n"
   ]
  },
  {
   "cell_type": "code",
   "execution_count": 12,
   "metadata": {
    "deletable": false,
    "editable": false,
    "nbgrader": {
     "cell_type": "code",
     "checksum": "ad9b5a34abba12818b2839687c82558d",
     "grade": true,
     "grade_id": "cell-e8f511cebd625045",
     "locked": true,
     "points": 2,
     "schema_version": 3,
     "solution": false,
     "task": false
    }
   },
   "outputs": [
    {
     "data": {
      "text/plain": [
       "'Check whether the answer is correct for some other inputs (hidden test)'"
      ]
     },
     "execution_count": 12,
     "metadata": {},
     "output_type": "execute_result"
    }
   ],
   "source": [
    "\"\"\"Check whether the answer is correct for some other inputs (hidden test)\"\"\"\n",
    "\n"
   ]
  },
  {
   "cell_type": "markdown",
   "metadata": {
    "deletable": false,
    "editable": false,
    "nbgrader": {
     "cell_type": "markdown",
     "checksum": "0b794c58c16b0b5b6f305fddb2796908",
     "grade": false,
     "grade_id": "cell-c6de33739aa252f3",
     "locked": true,
     "schema_version": 3,
     "solution": false,
     "task": false
    }
   },
   "source": [
    "\n",
    "### Part c)\n",
    "\n",
    "Create a python function `probX(a,b)` which for input values $a$ and $b$ with $a\\leq b$  returns $P(a<X<b)$. You do not need to worry what if a user enters values $a$ and $b$ such that $a>b$ - you will only be tested at input values for which $a<b$.\n",
    "\n",
    "Set the default values of `a` and `b` to be `a = float('-inf')` and `b = float('inf')` which represent $-\\infty$ and $\\infty$ in python. That is, `float('-inf')` is smaller than any numeric value, while `float('inf')` is larger than any numeric value.\n",
    "\n",
    "So,  since default $b$ is $\\infty$, calling `probX(a=1.2)` should return the value of $P(1.2<X<\\infty)=P(X>1.2)$.\n",
    "\n",
    "Also, since default $a$ is $-\\infty$,  calling `probX(b=2.3)` should return the value of  $P(-\\infty < X < 2.3) = P(X<2.3)$\n",
    "\n",
    "In addition, `calling probX(1.2, 2.3)` should return, of course, the value of $P(1.2<X<2.3)$.\n",
    "\n",
    "**Hint:** Recall that since $X$ is continuous, $P(X\\leq b)=P(X< b)$. So, you can make use of your function `F`. Also, keep in mind that, say, value `probX(1.2, 7)` should be the same as `probX(1.2, 3)`.\n",
    "\n",
    "\n",
    "**Note:** `float('inf')` is equal to `numpy.inf` from `numpy` module, which is also equal to `math.inf` from `math` module; similarly is with `float('-inf')`. The reason why you were asked to set `b=float('inf')` rather than `b=np.inf` is simply because the command `b=float('inf')` does not require importing any module, although `numpy` was imported (as `np`) in this notebook, for other purposes.\n"
   ]
  },
  {
   "cell_type": "code",
   "execution_count": 13,
   "metadata": {
    "deletable": false,
    "nbgrader": {
     "cell_type": "code",
     "checksum": "791e38a9364ffac2b878e332ba5b239d",
     "grade": false,
     "grade_id": "cell-678f164042c90edc",
     "locked": false,
     "schema_version": 3,
     "solution": true,
     "task": false
    }
   },
   "outputs": [],
   "source": [
    "\n",
    "def probX(a = float('-inf'), b = float('inf')):\n",
    "    if b > 3:\n",
    "        b = 3\n",
    "    if a < 0:\n",
    "        a = 0\n",
    "    return F(b)-F(a)\n"
   ]
  },
  {
   "cell_type": "code",
   "execution_count": 14,
   "metadata": {
    "deletable": false,
    "editable": false,
    "nbgrader": {
     "cell_type": "code",
     "checksum": "4d8940350c026c7a2e4bc1399d7472d2",
     "grade": true,
     "grade_id": "cell-886329ca528df713",
     "locked": true,
     "points": 1,
     "schema_version": 3,
     "solution": false,
     "task": false
    }
   },
   "outputs": [],
   "source": [
    "\"\"\"Check whether probX(a,b) is defined and whether probX(-10,10)=1\"\"\"\n",
    "\n",
    "assert callable(probX)  , \"Sorry, probX is not defined\"\n",
    "assert abs(probX(a=-10, b=10) - 1) < 1e-5  , \"Sorry, something is wrong here\"\n"
   ]
  },
  {
   "cell_type": "code",
   "execution_count": 15,
   "metadata": {
    "deletable": false,
    "editable": false,
    "nbgrader": {
     "cell_type": "code",
     "checksum": "c0952b6ecfba1b163729fe5962e2132f",
     "grade": true,
     "grade_id": "cell-acdec409d93c30ca",
     "locked": true,
     "points": 2,
     "schema_version": 3,
     "solution": false,
     "task": false
    }
   },
   "outputs": [],
   "source": [
    "\"\"\"Check whether probX(a=1.2)=0.744 and whether probX(b=1.2)=0.256=probX(-2.3,1.2)\"\"\"\n",
    "\n",
    "assert abs(probX(a=1.2) - 0.744) < 1e-5  , \"Sorry, wrong answer\"\n",
    "assert abs(probX(b=1.2) - 0.256) < 1e-5  , \"Sorry, wrong answer\"\n",
    "assert abs(probX(a=-2.3, b=1.2) - 0.256) < 1e-5  , \"Sorry, wrong answer\"\n"
   ]
  },
  {
   "cell_type": "code",
   "execution_count": 16,
   "metadata": {
    "deletable": false,
    "editable": false,
    "nbgrader": {
     "cell_type": "code",
     "checksum": "e0071b0065b6598483b6a5035c73fa47",
     "grade": true,
     "grade_id": "cell-18c94251b3bd1c59",
     "locked": true,
     "points": 4,
     "schema_version": 3,
     "solution": false,
     "task": false
    }
   },
   "outputs": [
    {
     "data": {
      "text/plain": [
       "'Check whether the answer is correct (hidden test)'"
      ]
     },
     "execution_count": 16,
     "metadata": {},
     "output_type": "execute_result"
    }
   ],
   "source": [
    "\"\"\"Check whether the answer is correct (hidden test)\"\"\"\n",
    "\n"
   ]
  },
  {
   "cell_type": "markdown",
   "metadata": {
    "deletable": false,
    "editable": false,
    "nbgrader": {
     "cell_type": "markdown",
     "checksum": "571d236cc8c4b8fceab85ee411a5ddc3",
     "grade": false,
     "grade_id": "cell-c6b4ff0ceb0d5797",
     "locked": true,
     "schema_version": 3,
     "solution": false,
     "task": false
    }
   },
   "source": [
    "\n",
    "\n",
    "### Part d)\n",
    "\n",
    "Find $E[X]$, the expected value of the random variable $X$. Write your answer as\n",
    "\n",
    "`E = <some expression>`\n",
    "\n",
    "For example, if you think the answer is ${12 \\over 34}$, set the variable `E` to be\n",
    "\n",
    "`E = 12/34`\n"
   ]
  },
  {
   "cell_type": "code",
   "execution_count": 17,
   "metadata": {
    "deletable": false,
    "nbgrader": {
     "cell_type": "code",
     "checksum": "aeecb972a5573c71434eaec66cd0bba4",
     "grade": false,
     "grade_id": "cell-a319d822b97b829f",
     "locked": false,
     "schema_version": 3,
     "solution": true,
     "task": false
    }
   },
   "outputs": [],
   "source": [
    "\n",
    "E = 7/4\n"
   ]
  },
  {
   "cell_type": "code",
   "execution_count": 18,
   "metadata": {
    "deletable": false,
    "editable": false,
    "nbgrader": {
     "cell_type": "code",
     "checksum": "9ab9f9f5d61e48be05d2676d7774be56",
     "grade": true,
     "grade_id": "cell-23c101dea06dbaf2",
     "locked": true,
     "points": 1,
     "schema_version": 3,
     "solution": false,
     "task": false
    }
   },
   "outputs": [],
   "source": [
    "\"\"\"Check whether E is numeric\"\"\"\n",
    "assert type(E) in {int, float}  ,  \"Sorry, E is not numeric\"\n"
   ]
  },
  {
   "cell_type": "code",
   "execution_count": 19,
   "metadata": {
    "deletable": false,
    "editable": false,
    "nbgrader": {
     "cell_type": "code",
     "checksum": "a83148bdd08fc21d9eaf0b66caa0b19d",
     "grade": true,
     "grade_id": "cell-8bc24128381641a6",
     "locked": true,
     "points": 1,
     "schema_version": 3,
     "solution": false,
     "task": false
    }
   },
   "outputs": [],
   "source": [
    "\"\"\"Check whether in the 2nd decimal place is number 5\"\"\"\n",
    "\n",
    "assert np.mod(int(np.floor(E*10**2)),10) == 5,  \"Sorry, wrong answer\"\n"
   ]
  },
  {
   "cell_type": "code",
   "execution_count": 20,
   "metadata": {
    "deletable": false,
    "editable": false,
    "nbgrader": {
     "cell_type": "code",
     "checksum": "a674c4c5915b4c0efc7849d40100c77d",
     "grade": true,
     "grade_id": "cell-7b2103fbdccddb77",
     "locked": true,
     "points": 5,
     "schema_version": 3,
     "solution": false,
     "task": false
    }
   },
   "outputs": [
    {
     "data": {
      "text/plain": [
       "'Check whether the answer is correct (hidden test)'"
      ]
     },
     "execution_count": 20,
     "metadata": {},
     "output_type": "execute_result"
    }
   ],
   "source": [
    "\"\"\"Check whether the answer is correct (hidden test)\"\"\"\n"
   ]
  },
  {
   "cell_type": "markdown",
   "metadata": {
    "deletable": false,
    "editable": false,
    "nbgrader": {
     "cell_type": "markdown",
     "checksum": "ff5165448233275fc28f436260256839",
     "grade": false,
     "grade_id": "cell-3dc6688e282c8877",
     "locked": true,
     "schema_version": 3,
     "solution": false,
     "task": false
    }
   },
   "source": [
    "\n",
    "### Part e)\n",
    "\n",
    "Find $E[X^2]$ (the second order moment of $X$). Write your answer as\n",
    "\n",
    "`EXsq = <some expression>`\n",
    "\n",
    "For example, if you think the answer is ${12 \\over 34}$, set the variable `EXsq` to be\n",
    "\n",
    "`EXsq = 12/34`"
   ]
  },
  {
   "cell_type": "code",
   "execution_count": 21,
   "metadata": {
    "deletable": false,
    "nbgrader": {
     "cell_type": "code",
     "checksum": "91f90295130e7aedde1c01b075d1df29",
     "grade": false,
     "grade_id": "cell-743099ded4aba0b2",
     "locked": false,
     "schema_version": 3,
     "solution": true,
     "task": false
    }
   },
   "outputs": [],
   "source": [
    "\n",
    "EXsq = 28/5\n"
   ]
  },
  {
   "cell_type": "code",
   "execution_count": 22,
   "metadata": {
    "deletable": false,
    "editable": false,
    "nbgrader": {
     "cell_type": "code",
     "checksum": "b32dc1109ea7dd99fcb468ee17440c61",
     "grade": true,
     "grade_id": "cell-6c6093cb2205eca2",
     "locked": true,
     "points": 1,
     "schema_version": 3,
     "solution": false,
     "task": false
    }
   },
   "outputs": [],
   "source": [
    "\"\"\"Check whether EXsq is numeric\"\"\"\n",
    "assert type(EXsq) in {int, float}  ,  \"Sorry, EXsq is not numeric\""
   ]
  },
  {
   "cell_type": "code",
   "execution_count": 23,
   "metadata": {
    "deletable": false,
    "editable": false,
    "nbgrader": {
     "cell_type": "code",
     "checksum": "600cb8abc8268ecf50183e5c412d6896",
     "grade": true,
     "grade_id": "cell-d2af65bdb6468ba2",
     "locked": true,
     "points": 1,
     "schema_version": 3,
     "solution": false,
     "task": false
    }
   },
   "outputs": [],
   "source": [
    "\"\"\"Check whether in the 1st decimal place is number 6\"\"\"\n",
    "\n",
    "assert np.mod(int(np.floor(EXsq*10**1)),10) == 6,  \"Sorry, wrong answer\""
   ]
  },
  {
   "cell_type": "code",
   "execution_count": 24,
   "metadata": {
    "deletable": false,
    "editable": false,
    "nbgrader": {
     "cell_type": "code",
     "checksum": "4bc37df0964f2b608e2041f6278eb352",
     "grade": true,
     "grade_id": "cell-67bff0f398a3dcc0",
     "locked": true,
     "points": 6,
     "schema_version": 3,
     "solution": false,
     "task": false
    }
   },
   "outputs": [
    {
     "data": {
      "text/plain": [
       "'Check whether the answer is correct (hidden test)'"
      ]
     },
     "execution_count": 24,
     "metadata": {},
     "output_type": "execute_result"
    }
   ],
   "source": [
    "\"\"\"Check whether the answer is correct (hidden test)\"\"\"\n"
   ]
  },
  {
   "cell_type": "markdown",
   "metadata": {
    "deletable": false,
    "editable": false,
    "nbgrader": {
     "cell_type": "markdown",
     "checksum": "f5d02caa64bb5d89a97287f37744d95d",
     "grade": false,
     "grade_id": "cell-8ef29cff38dc6acf",
     "locked": true,
     "schema_version": 3,
     "solution": false,
     "task": false
    }
   },
   "source": [
    "\n",
    "### Part f)\n",
    "\n",
    "Find $\\text{var}[X]$, the variance of the random variable $X$. Write your answer as `V`.\n",
    "\n",
    "For example, if you think the answer is ${12 \\over 34}$, set the variable `V` to be\n",
    "\n",
    "`V = 12/34`\n",
    "\n",
    "<br>\n",
    "\n",
    "**Hint:** You don't need any computation here, since you can express `V` in terms of some previous answers.\n"
   ]
  },
  {
   "cell_type": "code",
   "execution_count": 25,
   "metadata": {
    "deletable": false,
    "nbgrader": {
     "cell_type": "code",
     "checksum": "18bd9c7c2428e16ad5488d0d9014c681",
     "grade": false,
     "grade_id": "cell-69be162b9ded92d4",
     "locked": false,
     "schema_version": 3,
     "solution": true,
     "task": false
    }
   },
   "outputs": [],
   "source": [
    "\n",
    "V = EXsq - (E**2)\n"
   ]
  },
  {
   "cell_type": "code",
   "execution_count": 26,
   "metadata": {
    "deletable": false,
    "editable": false,
    "nbgrader": {
     "cell_type": "code",
     "checksum": "bb9cf480433643079a86d9ecf3a91fae",
     "grade": true,
     "grade_id": "cell-f681891c198f811c",
     "locked": true,
     "points": 1,
     "schema_version": 3,
     "solution": false,
     "task": false
    }
   },
   "outputs": [],
   "source": [
    "\"\"\"Check whether V is numeric\"\"\"\n",
    "assert type(V) in {int, float}  ,  \"Sorry, V is not numeric\""
   ]
  },
  {
   "cell_type": "code",
   "execution_count": 27,
   "metadata": {
    "deletable": false,
    "editable": false,
    "nbgrader": {
     "cell_type": "code",
     "checksum": "2adc83f656821aa6b01fff3610c07f8d",
     "grade": true,
     "grade_id": "cell-11313f249903915c",
     "locked": true,
     "points": 1,
     "schema_version": 3,
     "solution": false,
     "task": false
    }
   },
   "outputs": [],
   "source": [
    "\"\"\"Check whether in the 3rd decimal place is number 7\"\"\"\n",
    "\n",
    "assert np.mod(int(np.floor(V*10**3)),10) == 7,  \"Sorry, wrong answer\""
   ]
  },
  {
   "cell_type": "code",
   "execution_count": 28,
   "metadata": {
    "deletable": false,
    "editable": false,
    "nbgrader": {
     "cell_type": "code",
     "checksum": "f62b4a8cd0651037bddddfe1122784e0",
     "grade": true,
     "grade_id": "cell-903f8140f3d1a9df",
     "locked": true,
     "points": 6,
     "schema_version": 3,
     "solution": false,
     "task": false
    }
   },
   "outputs": [
    {
     "data": {
      "text/plain": [
       "'Check whether the answer is correct (hidden test)'"
      ]
     },
     "execution_count": 28,
     "metadata": {},
     "output_type": "execute_result"
    }
   ],
   "source": [
    "\"\"\"Check whether the answer is correct (hidden test)\"\"\"\n"
   ]
  }
 ],
 "metadata": {
  "kernelspec": {
   "display_name": "Python 3",
   "language": "python",
   "name": "python3"
  },
  "language_info": {
   "codemirror_mode": {
    "name": "ipython",
    "version": 3
   },
   "file_extension": ".py",
   "mimetype": "text/x-python",
   "name": "python",
   "nbconvert_exporter": "python",
   "pygments_lexer": "ipython3",
   "version": "3.8.10"
  }
 },
 "nbformat": 4,
 "nbformat_minor": 4
}
