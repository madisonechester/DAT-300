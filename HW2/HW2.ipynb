{
 "cells": [
  {
   "cell_type": "markdown",
   "metadata": {},
   "source": [
    "Before you turn this problem in, make sure everything runs as expected. First, **restart the kernel** (in the menubar, select Kernel$\\rightarrow$Restart) and then **run all cells** (in the menubar, select Cell$\\rightarrow$Run All).\n",
    "\n",
    "Make sure you fill in any place that says `YOUR CODE HERE` or \"YOUR ANSWER HERE\", as well as your name and collaborators below:"
   ]
  },
  {
   "cell_type": "code",
   "execution_count": 1,
   "metadata": {},
   "outputs": [],
   "source": [
    "NAME = \"Madison Chester\"\n",
    "COLLABORATORS = \"\""
   ]
  },
  {
   "cell_type": "markdown",
   "metadata": {},
   "source": [
    "---"
   ]
  },
  {
   "cell_type": "code",
   "execution_count": 2,
   "metadata": {
    "deletable": false,
    "editable": false,
    "nbgrader": {
     "cell_type": "code",
     "checksum": "b791cc1873ccb7b7e5eb4b7e6e85702b",
     "grade": false,
     "grade_id": "cell-import-modules",
     "locked": true,
     "schema_version": 3,
     "solution": false,
     "task": false
    }
   },
   "outputs": [],
   "source": [
    "##this is used for testing; run this cell first!\n",
    "import numpy as np\n",
    "import types\n",
    "from nose.tools import assert_equal, assert_raises"
   ]
  },
  {
   "cell_type": "markdown",
   "metadata": {
    "deletable": false,
    "editable": false,
    "nbgrader": {
     "cell_type": "markdown",
     "checksum": "5eab1beb92a02751440529965226ef99",
     "grade": false,
     "grade_id": "cell-q1-formulation",
     "locked": true,
     "schema_version": 3,
     "solution": false,
     "task": false
    }
   },
   "source": [
    "### Question 1.\n",
    "\n",
    "Consider the function $\\displaystyle f(x,y)={x^2y^3\\over x^2+y^4}$. Which of the following is the domain of this function?\n",
    "\n",
    "<br>\n",
    "\n",
    "$1. D_f = \\{(x,y)\\in\\mathbf{R}^2\\,|\\, x\\neq 0\\}$\n",
    "\n",
    "$2. D_f = \\{(x,y)\\in \\mathbf{R}^2\\,|\\, y\\neq 0\\}$\n",
    "\n",
    "$3. D_f = \\mathbf{R}^2 \\setminus \\{(0,0)\\} = \\{(x,y)\\in\\mathbf{R}^2\\,|\\,x\\neq 0 \\text{ or } y\\neq 0\\}$\n",
    "\n",
    "$4. D_f = \\mathbf{R}$\n",
    "\n",
    "$5. D_f = \\mathbf{R}^2$\n",
    "\n",
    "$6. D_f = \\mathbf{R}^3$\n",
    "\n",
    "<br>\n",
    "\n",
    "Write your answer as \n",
    "\n",
    "`ans = <some number>`\n",
    "\n",
    "For example, if you think the answer is the 6th of the choices above, your answer should be \n",
    "\n",
    "`ans = 6`\n",
    "\n",
    "**IMPORTANT:** Just typing `6`, or `answer = 6` is not acceptable. Also, do NOT put a dot at the end (this is a python code, not a sentence in English). Your answer will be graded automatically, and the test code expects you to create a Python variable called `ans`, and the code will test the value of `ans`. "
   ]
  },
  {
   "cell_type": "code",
   "execution_count": 3,
   "metadata": {
    "deletable": false,
    "nbgrader": {
     "cell_type": "code",
     "checksum": "500b5e7c053721525fc8d891faacc0b9",
     "grade": false,
     "grade_id": "cell-q1-answer",
     "locked": false,
     "schema_version": 3,
     "solution": true,
     "task": false
    }
   },
   "outputs": [],
   "source": [
    "\n",
    "ans = 3\n"
   ]
  },
  {
   "cell_type": "code",
   "execution_count": 4,
   "metadata": {
    "deletable": false,
    "editable": false,
    "nbgrader": {
     "cell_type": "code",
     "checksum": "e05c5ca4724988aff42a731f694c550c",
     "grade": true,
     "grade_id": "cell-q1-test1",
     "locked": true,
     "points": 1,
     "schema_version": 3,
     "solution": false,
     "task": false
    }
   },
   "outputs": [],
   "source": [
    "\"\"\"Check whether your answer is an integer b/w 1 and 6\"\"\"\n",
    "\n",
    "assert isinstance(ans,int) , \"Sorry, your variable ans is not an integer.\"\n",
    "assert (1 <= ans) & (ans <= 6) , \"Sorry, your variable ans is not in the range 1-6.\""
   ]
  },
  {
   "cell_type": "code",
   "execution_count": 5,
   "metadata": {
    "deletable": false,
    "editable": false,
    "nbgrader": {
     "cell_type": "code",
     "checksum": "bc19d3600b4af0721d5c712495959aac",
     "grade": true,
     "grade_id": "cell-q1-hidden1",
     "locked": true,
     "points": 6,
     "schema_version": 3,
     "solution": false,
     "task": false
    }
   },
   "outputs": [
    {
     "data": {
      "text/plain": [
       "'Check whether the answer is correct (hidden test)'"
      ]
     },
     "execution_count": 5,
     "metadata": {},
     "output_type": "execute_result"
    }
   ],
   "source": [
    "\"\"\"Check whether the answer is correct (hidden test)\"\"\"\n"
   ]
  },
  {
   "cell_type": "markdown",
   "metadata": {
    "deletable": false,
    "editable": false,
    "nbgrader": {
     "cell_type": "markdown",
     "checksum": "e862e39cebf7bc9b927b5a14a6f9b734",
     "grade": false,
     "grade_id": "cell-ea1417b158c9310a",
     "locked": true,
     "schema_version": 3,
     "solution": false,
     "task": false
    }
   },
   "source": [
    "### Question 2\n",
    "\n",
    "Consider again the function $\\displaystyle f(x,y)={x^2y^3\\over x^2+y^4}$.\n",
    "\n",
    "\n",
    "Find all the values $k\\in\\mathbf{R}$ for which the limit of $f$ at $(0,0)$ along the path $y=kx$ is 0. That is, find all values of $k\\in\\mathbf{R}$ such that\n",
    "\n",
    "$$\\lim_{\\begin{array}{c|c} (x,y)\\to (0,0) \\\\ y = kx\\end{array}}f(x,y)=\\lim_{x\\to 0}f(x,kx) = 0.$$\n",
    "\n",
    "<br>\n",
    "\n",
    "$1.$ For all $k\\in \\mathbf{R}$.\n",
    "\n",
    "$2.$ For all $k \\neq 0$.\n",
    "\n",
    "$3.$ For all $k > 0$.\n",
    "\n",
    "$4.$ For all $k \\geq 0$.\n",
    "\n",
    "$5.$ For no value of $k$ does the limit $\\displaystyle \\lim_{x\\to 0}f(x,kx)$ exist.\n",
    "\n",
    "$6.$ Only for $k=0$ does the limit exist.\n",
    "\n",
    "<br>\n",
    "\n",
    "Write your answer as\n",
    "\n",
    "`ans = <some number>`\n",
    "\n",
    "For example, if you think the answer is the 6th of the choices above, your answer should be\n",
    "\n",
    "`ans = 6`\n",
    "\n",
    "**IMPORTANT:** Just typing `6`, or `answer = 6` is not acceptable. Also, do NOT put a dot at the end (this is a python code, not a sentence in English). Your answer will be graded automatically, and the test code expects you to create a Python variable called `ans`, and the code will test the value of `ans`. "
   ]
  },
  {
   "cell_type": "code",
   "execution_count": 6,
   "metadata": {
    "deletable": false,
    "nbgrader": {
     "cell_type": "code",
     "checksum": "2b2bfc96eaa4cfe78834d3b0f217b61f",
     "grade": false,
     "grade_id": "cell-q2-answer",
     "locked": false,
     "schema_version": 3,
     "solution": true,
     "task": false
    }
   },
   "outputs": [],
   "source": [
    "\n",
    "ans = 1\n"
   ]
  },
  {
   "cell_type": "code",
   "execution_count": 7,
   "metadata": {
    "deletable": false,
    "editable": false,
    "nbgrader": {
     "cell_type": "code",
     "checksum": "cc4252ad844ad473dfbb969f35a59152",
     "grade": true,
     "grade_id": "cell-q2-test1",
     "locked": true,
     "points": 1,
     "schema_version": 3,
     "solution": false,
     "task": false
    }
   },
   "outputs": [],
   "source": [
    "\"\"\"Check whether your answer is an integer b/w 1 and 6\"\"\"\n",
    "\n",
    "assert isinstance(ans,int) , \"Sorry, your variable ans is not an integer.\"\n",
    "assert (1 <= ans) & (ans <= 6) , \"Sorry, your variable ans is not in the range 1-6.\""
   ]
  },
  {
   "cell_type": "code",
   "execution_count": 8,
   "metadata": {
    "deletable": false,
    "editable": false,
    "nbgrader": {
     "cell_type": "code",
     "checksum": "75317d82ce24ba2e35c44af3fc62ee77",
     "grade": true,
     "grade_id": "cell-q2-hidden1",
     "locked": true,
     "points": 6,
     "schema_version": 3,
     "solution": false,
     "task": false
    }
   },
   "outputs": [
    {
     "data": {
      "text/plain": [
       "'Check whether the answer is correct (hidden test)'"
      ]
     },
     "execution_count": 8,
     "metadata": {},
     "output_type": "execute_result"
    }
   ],
   "source": [
    "\"\"\"Check whether the answer is correct (hidden test)\"\"\"\n"
   ]
  },
  {
   "cell_type": "markdown",
   "metadata": {
    "deletable": false,
    "editable": false,
    "nbgrader": {
     "cell_type": "markdown",
     "checksum": "faf0f2bbcb418b3a5fb4b3eb54f44495",
     "grade": false,
     "grade_id": "cell-fd0852f9f917c9b6",
     "locked": true,
     "schema_version": 3,
     "solution": false,
     "task": false
    }
   },
   "source": [
    "### Question 3\n",
    "\n",
    "Consider the function $\\displaystyle f(x,y)={\\sin(x+y)\\over x+y}$. Which of these is the set of all points $(x,y)$ at which $f$ is continuous?\n",
    "\n",
    "$1.$ $\\{(x,y)\\in\\mathbf{R}^2\\,|\\,y\\neq -x\\}$\n",
    "\n",
    "$2.$ $\\{(x,y)\\in\\mathbf{R}^2\\,|\\, x\\neq 0 \\}$\n",
    "\n",
    "$3.$ $\\{(x,y)\\in\\mathbf{R}^2\\,|\\, y\\neq 0 \\}$\n",
    "\n",
    "$4.$ $\\mathbf{R}^2$\n",
    "\n",
    "$5.$ $\\mathbf{R}^2\\setminus \\{(0,0)\\}$\n",
    "\n",
    "$6.$ $\\emptyset$ &nbsp;  (that is, at no point is the function continuous)\n",
    "\n",
    "<br>\n",
    "\n",
    "Write your answer in the following cell as \n",
    "\n",
    "`ans = <some number>`\n",
    "\n",
    "For example, if you think the answer is the 6th of the choices above, your answer should be\n",
    "\n",
    "`ans = 6`\n",
    "\n",
    "**IMPORTANT**: Just typing 6, or `answer = 6` is not acceptable. Also, do NOT put a dot at the end (this is a python code, not a sentence in English). Your answer will be graded automatically, and the test code expects you to create a Python variable called ans, and the code will test the value of ans."
   ]
  },
  {
   "cell_type": "code",
   "execution_count": 9,
   "metadata": {
    "deletable": false,
    "nbgrader": {
     "cell_type": "code",
     "checksum": "8b1ad46ac681b62fa61bac176ab2892b",
     "grade": false,
     "grade_id": "cell-q3-ans",
     "locked": false,
     "schema_version": 3,
     "solution": true,
     "task": false
    }
   },
   "outputs": [],
   "source": [
    "\n",
    "ans = 1\n"
   ]
  },
  {
   "cell_type": "code",
   "execution_count": 10,
   "metadata": {
    "deletable": false,
    "editable": false,
    "nbgrader": {
     "cell_type": "code",
     "checksum": "d6d508aacdf787160d84706d8217ca9b",
     "grade": true,
     "grade_id": "cell-q3-test1",
     "locked": true,
     "points": 1,
     "schema_version": 3,
     "solution": false,
     "task": false
    }
   },
   "outputs": [],
   "source": [
    "\"\"\"Check whether your answer is an integer b/w 1 and 6\"\"\"\n",
    "\n",
    "assert isinstance(ans,int) , \"Sorry, your variable ans is not an integer.\"\n",
    "assert (1 <= ans) & (ans <= 6) , \"Sorry, your variable ans is not in the range 1-6.\""
   ]
  },
  {
   "cell_type": "code",
   "execution_count": 11,
   "metadata": {
    "deletable": false,
    "editable": false,
    "nbgrader": {
     "cell_type": "code",
     "checksum": "f8db82655715fce5d46d76a319c69cb6",
     "grade": true,
     "grade_id": "cell-q3-test2",
     "locked": true,
     "points": 6,
     "schema_version": 3,
     "solution": false,
     "task": false
    }
   },
   "outputs": [
    {
     "data": {
      "text/plain": [
       "'Check whether the answer is correct (hidden test)'"
      ]
     },
     "execution_count": 11,
     "metadata": {},
     "output_type": "execute_result"
    }
   ],
   "source": [
    "\"\"\"Check whether the answer is correct (hidden test)\"\"\"\n"
   ]
  },
  {
   "cell_type": "markdown",
   "metadata": {
    "deletable": false,
    "editable": false,
    "nbgrader": {
     "cell_type": "markdown",
     "checksum": "08381421766c0089cc327badcc67fa32",
     "grade": false,
     "grade_id": "cell-b02ca7ae5d0e26bf",
     "locked": true,
     "schema_version": 3,
     "solution": false,
     "task": false
    }
   },
   "source": [
    "### Question 4\n",
    "\n",
    "Consider the function  $\\displaystyle f(x,y) = {x^{m} y^3\\over x^2 + y^4}$, where $m\\in\\mathbf{Z}$ is a fixed integer parameter (we only take integer values to avoid the problem of definability when $x<0$). For which values of $m \\in \\mathbf{Z}$ does the limit along **any** path $y=kx$ is equal to 0?\n",
    "\n",
    "In other words, find all $m \\in\\mathbf{Z}$ for which we have that\n",
    "\n",
    "for all $k\\in \\mathbf{R}$, $\\displaystyle \\lim_{\\begin{array}{c|c}(x,y)\\to (0,0) \\\\ y=kx \\end{array}}f(x,y) = \\lim_{x\\to 0}f(x,kx) = 0.$\n",
    "\n",
    "<br>\n",
    "\n",
    "$1.$ For $m > 1$\n",
    "\n",
    "$2.$ For $m > -1$\n",
    "\n",
    "$3.$ For $m \\in \\{-1, 0, 1\\}$\n",
    "\n",
    "$4.$ For $m < 1$\n",
    "\n",
    "$5.$ For $m < -1$\n",
    "\n",
    "$6.$ For no $m\\in \\mathbf{Z}$ is the limit at $(0,0)$ along every path $y=kx$ equal to 0.\n",
    "\n",
    "\n",
    "\n",
    "(**Hint:** As usual, plug in $y=kx$ and try to cancel as high power of $x$ as possible. Also, plotting graphs for various values of $\\alpha$ can be very useful, as well. But, keep in mind that sometimes, due to numerical instability or scaling factor, a plot might be misleading and you can only use it for hints and inspiration, not as a proof. Also, the finer the meshgrid, the more accurate the plot is, although that comes at the cost of more computations, and thus, more time.)\n",
    "\n",
    "<br>\n",
    "\n",
    "Write your answer in the following cell as \n",
    "\n",
    "`ans = <some number>`\n",
    "\n",
    "For example, if you think the answer is the 6th of the choices above, your answer should be\n",
    "\n",
    "`ans = 6`\n",
    "\n",
    "**IMPORTANT**: Just typing 6, or `answer = 6` is not acceptable. Also, do NOT put a dot at the end (this is a python code, not a sentence in English). Your answer will be graded automatically, and the test code expects you to create a Python variable called ans, and the code will test the value of ans."
   ]
  },
  {
   "cell_type": "code",
   "execution_count": 12,
   "metadata": {
    "deletable": false,
    "nbgrader": {
     "cell_type": "code",
     "checksum": "62ad8e3d48cf8332b55e752fb387fa90",
     "grade": false,
     "grade_id": "cell-q4-ans",
     "locked": false,
     "schema_version": 3,
     "solution": true,
     "task": false
    }
   },
   "outputs": [],
   "source": [
    "\n",
    "ans = 4\n"
   ]
  },
  {
   "cell_type": "code",
   "execution_count": 13,
   "metadata": {
    "deletable": false,
    "editable": false,
    "nbgrader": {
     "cell_type": "code",
     "checksum": "4d1240a242247535804608d92ebf4411",
     "grade": true,
     "grade_id": "cell-q4-test1",
     "locked": true,
     "points": 1,
     "schema_version": 3,
     "solution": false,
     "task": false
    }
   },
   "outputs": [],
   "source": [
    "\"\"\"Check whether your answer is an integer b/w 1 and 6\"\"\"\n",
    "\n",
    "assert isinstance(ans,int) , \"Sorry, your variable ans is not an integer.\"\n",
    "assert (1 <= ans) & (ans <= 6) , \"Sorry, your variable ans is not in the range 1-6.\""
   ]
  },
  {
   "cell_type": "code",
   "execution_count": 14,
   "metadata": {
    "deletable": false,
    "editable": false,
    "nbgrader": {
     "cell_type": "code",
     "checksum": "af1cd55d9e07e1ff81759fd2e3d7408f",
     "grade": true,
     "grade_id": "cell-q4-test2",
     "locked": true,
     "points": 6,
     "schema_version": 3,
     "solution": false,
     "task": false
    }
   },
   "outputs": [
    {
     "data": {
      "text/plain": [
       "'Check whether the answer is correct (hidden test)'"
      ]
     },
     "execution_count": 14,
     "metadata": {},
     "output_type": "execute_result"
    }
   ],
   "source": [
    "\"\"\"Check whether the answer is correct (hidden test)\"\"\"\n"
   ]
  },
  {
   "cell_type": "markdown",
   "metadata": {
    "deletable": false,
    "editable": false,
    "nbgrader": {
     "cell_type": "markdown",
     "checksum": "36d60138d09edaa2966866af155843a3",
     "grade": false,
     "grade_id": "cell-question-5",
     "locked": true,
     "schema_version": 3,
     "solution": false,
     "task": false
    }
   },
   "source": [
    "### Question 5\n",
    "\n",
    "Find the limit of the function $\\displaystyle f(x,y)={x^2 y\\over x^2+y^2}$ at point $(0,0)$ along the $y$-axis path: $\\{(0,y)\\in\\mathbf{R}^2\\,|\\, y\\in\\mathbf{R}\\}$.\n",
    "\n",
    "<br>\n",
    "\n",
    "$1.$ $\\displaystyle \\lim_{\\begin{array}{cc}(x,y)\\to (0,0)\\\\ x = 0\\end{array}}f(x,y) = {1\\over y}$\n",
    "\n",
    "$2.$ $\\displaystyle \\lim_{\\begin{array}{cc}(x,y)\\to (0,0)\\\\ x = 0\\end{array}}f(x,y) = \\infty $\n",
    "\n",
    "$3.$ $\\displaystyle \\lim_{\\begin{array}{cc}(x,y)\\to (0,0)\\\\ x = 0\\end{array}}f(x,y) = - \\infty$\n",
    "\n",
    "$4.$ The limit $\\displaystyle \\lim_{\\begin{array}{cc}(x,y)\\to (0,0)\\\\ x = 0\\end{array}}f(x,y)$ does not exist, not even in an infinite sense.\n",
    "\n",
    "$5.$ $\\displaystyle \\lim_{\\begin{array}{cc}(x,y)\\to (0,0)\\\\ x = 0\\end{array}}f(x,y) = 0$\n",
    "\n",
    "$6.$ $\\displaystyle \\lim_{\\begin{array}{cc}(x,y)\\to (0,0)\\\\ x = 0\\end{array}}f(x,y) = 1$\n",
    "\n",
    "\n",
    "\n",
    "\n",
    "\n",
    "<br>\n",
    "\n",
    "Write your answer as\n",
    "\n",
    "`ans = <some number>`\n",
    "\n",
    "For example, if you think the answer is the 6th of the choices above, your answer should be\n",
    "\n",
    "`ans = 6`\n",
    "\n",
    "**IMPORTANT:** Just typing `6`, or `answer = 6` is not acceptable. Also, do NOT put a dot at the end (this is a python code, not a sentence in English). Your answer will be graded automatically, and the test code expects you to create a Python variable called `ans`, and the code will test the value of `ans`. "
   ]
  },
  {
   "cell_type": "code",
   "execution_count": 15,
   "metadata": {
    "deletable": false,
    "nbgrader": {
     "cell_type": "code",
     "checksum": "eddf86b86958f1e75d5c53093f028d54",
     "grade": false,
     "grade_id": "cell-q5-answer",
     "locked": false,
     "schema_version": 3,
     "solution": true,
     "task": false
    }
   },
   "outputs": [],
   "source": [
    "\n",
    "ans = 5\n"
   ]
  },
  {
   "cell_type": "code",
   "execution_count": 16,
   "metadata": {
    "deletable": false,
    "editable": false,
    "nbgrader": {
     "cell_type": "code",
     "checksum": "0342722c144b132d62d31b10d4851e45",
     "grade": true,
     "grade_id": "cell-q5-test1",
     "locked": true,
     "points": 1,
     "schema_version": 3,
     "solution": false,
     "task": false
    }
   },
   "outputs": [],
   "source": [
    "\"\"\"Check whether your answer is an integer b/w 1 and 6\"\"\"\n",
    "\n",
    "assert ans in {1,2,3,4,5,6},  \"Sorry, variable ans is not an integer between 1 and 6\""
   ]
  },
  {
   "cell_type": "code",
   "execution_count": 17,
   "metadata": {
    "deletable": false,
    "editable": false,
    "nbgrader": {
     "cell_type": "code",
     "checksum": "02712cf843d210b4ad0de408005930f4",
     "grade": true,
     "grade_id": "cell-q5-test2",
     "locked": true,
     "points": 6,
     "schema_version": 3,
     "solution": false,
     "task": false
    }
   },
   "outputs": [
    {
     "data": {
      "text/plain": [
       "'Check whether the answer is correct (hidden test)'"
      ]
     },
     "execution_count": 17,
     "metadata": {},
     "output_type": "execute_result"
    }
   ],
   "source": [
    "\"\"\"Check whether the answer is correct (hidden test)\"\"\"\n"
   ]
  },
  {
   "cell_type": "markdown",
   "metadata": {
    "deletable": false,
    "editable": false,
    "nbgrader": {
     "cell_type": "markdown",
     "checksum": "423e1d229e1bca73cc72ead43ecbd4cf",
     "grade": false,
     "grade_id": "cell-55e31433bac71dca",
     "locked": true,
     "schema_version": 3,
     "solution": false,
     "task": false
    }
   },
   "source": [
    "### Question 6\n",
    "\n",
    "Create a python function `squares()` which for any given python list `x` of numeric values  returns the list of squares of components of vector `x`.\n",
    "\n",
    "For example, if `x = [-2, 3, 0]`, your function should return\n",
    "\n",
    "`squares(x)`<br>\n",
    "`[4,9,0]`\n",
    "\n",
    "If `x = [2, -5, 4, 3, 1, 1, -3]`, your function should return\n",
    "\n",
    "`squares(x)` <br>\n",
    "`[4, 25, 16, 9, 1, 1, 9]`"
   ]
  },
  {
   "cell_type": "code",
   "execution_count": 18,
   "metadata": {
    "deletable": false,
    "nbgrader": {
     "cell_type": "code",
     "checksum": "55d51b999d23b1b235cc4491616fd40f",
     "grade": false,
     "grade_id": "cell-q6-answer",
     "locked": false,
     "schema_version": 3,
     "solution": true,
     "task": false
    }
   },
   "outputs": [],
   "source": [
    "\n",
    "def squares(x):\n",
    "    return [i ** 2 for i in x]\n"
   ]
  },
  {
   "cell_type": "code",
   "execution_count": 19,
   "metadata": {
    "deletable": false,
    "editable": false,
    "nbgrader": {
     "cell_type": "code",
     "checksum": "4ef9f51ba06e41c62d4f3d7f86060d4c",
     "grade": true,
     "grade_id": "cell-q6-test1",
     "locked": true,
     "points": 1,
     "schema_version": 3,
     "solution": false,
     "task": false
    }
   },
   "outputs": [],
   "source": [
    "\"\"\"Check whether the output for x = [-2, 3, 0] is a list of length 3\"\"\"\n",
    "\n",
    "x = [-2, 3, 0]\n",
    "assert isinstance(squares(x),list) , \"Sorry, your output is not a list.\"\n",
    "assert len(squares(x)) == 3, \"Sorry, wrong length of the output list\""
   ]
  },
  {
   "cell_type": "code",
   "execution_count": 20,
   "metadata": {
    "deletable": false,
    "editable": false,
    "nbgrader": {
     "cell_type": "code",
     "checksum": "a25aa4af1b9b3d6059b65e1038e9e41c",
     "grade": true,
     "grade_id": "cell-q6-test2",
     "locked": true,
     "points": 1,
     "schema_version": 3,
     "solution": false,
     "task": false
    }
   },
   "outputs": [],
   "source": [
    "\"\"\"Check whether the answer is correct for x = [-2, 3, 0]\"\"\"\n",
    "\n",
    "x = [-2, 3, 0]\n",
    "assert squares(x) == [4, 9, 0]"
   ]
  },
  {
   "cell_type": "code",
   "execution_count": 21,
   "metadata": {
    "deletable": false,
    "editable": false,
    "nbgrader": {
     "cell_type": "code",
     "checksum": "13278de5f3cd2ca2b97375b0dc079090",
     "grade": true,
     "grade_id": "cell-q6-test3",
     "locked": true,
     "points": 1,
     "schema_version": 3,
     "solution": false,
     "task": false
    }
   },
   "outputs": [],
   "source": [
    "\"\"\"Check whether the answer is correct for x = [2, -5, 4, 3, -1, 1, -3]\"\"\"\n",
    "\n",
    "x = [2, -5, 4, 3, -1, 1, -3]\n",
    "assert isinstance(squares(x),list) , \"Sorry, your output is not a list\"\n",
    "assert squares(x) == [4, 25, 16, 9, 1, 1, 9] "
   ]
  },
  {
   "cell_type": "code",
   "execution_count": 22,
   "metadata": {
    "deletable": false,
    "editable": false,
    "nbgrader": {
     "cell_type": "code",
     "checksum": "acfb574a8254859596c7c88fabdc916b",
     "grade": true,
     "grade_id": "cell-q6-hidden1",
     "locked": true,
     "points": 4,
     "schema_version": 3,
     "solution": false,
     "task": false
    }
   },
   "outputs": [
    {
     "data": {
      "text/plain": [
       "'Check whether the answer is correct for various lists x (hidden test)'"
      ]
     },
     "execution_count": 22,
     "metadata": {},
     "output_type": "execute_result"
    }
   ],
   "source": [
    "\"\"\"Check whether the answer is correct for various lists x (hidden test)\"\"\"\n"
   ]
  },
  {
   "cell_type": "markdown",
   "metadata": {
    "deletable": false,
    "editable": false,
    "nbgrader": {
     "cell_type": "markdown",
     "checksum": "e87311ffd006e47f640abd32042a7d60",
     "grade": false,
     "grade_id": "cell-question-7",
     "locked": true,
     "schema_version": 3,
     "solution": false,
     "task": false
    }
   },
   "source": [
    "### Question 7\n",
    "\n",
    "Create a python function `sumsquares()` which, for a whole number $n\\geq 0$, returns $\\sum_{k=0}^n k^2$, i.e. the sum of squares of all the whole numbers up to and including $n$. If $n$ is not a whole number (i.e. not a non-negative integer), use the statement <br>\n",
    "\n",
    "`raise ValueError(\"Sorry, n must be a whole number!\")` <br>\n",
    "\n",
    "in your code to report the error. Do NOT change/alter the error message, it must be as above.  <br>\n",
    "\n",
    " Here are some examples: <br>\n",
    "\n",
    "`sumsquares(0)` <br>\n",
    "`0` \n",
    "\n",
    "`sumsquares(2)` <br>\n",
    "`5` \n",
    "\n",
    "`sumsquares(2.3)` <br>\n",
    "`ValueError: Sorry, n must be a whole number!`\n"
   ]
  },
  {
   "cell_type": "code",
   "execution_count": 23,
   "metadata": {
    "deletable": false,
    "nbgrader": {
     "cell_type": "code",
     "checksum": "a87335ec3c3c2303aebe953a3f19e421",
     "grade": false,
     "grade_id": "cell-q7-answer",
     "locked": false,
     "schema_version": 3,
     "solution": true,
     "task": false
    }
   },
   "outputs": [],
   "source": [
    "\n",
    "def sumsquares(n):    \n",
    "    summation = 0;\n",
    "    if type(n) != int or n < 0:\n",
    "        raise ValueError(\"Sorry, n must be a whole number!\")\n",
    "    else:\n",
    "        for i in range(1,n+1):\n",
    "            summation = summation + (i * i)\n",
    "    return summation\n"
   ]
  },
  {
   "cell_type": "code",
   "execution_count": 24,
   "metadata": {
    "deletable": false,
    "editable": false,
    "nbgrader": {
     "cell_type": "code",
     "checksum": "083d0927cfe3aac6f92ab14299070fb0",
     "grade": true,
     "grade_id": "cell-q7-test1",
     "locked": true,
     "points": 1,
     "schema_version": 3,
     "solution": false,
     "task": false
    }
   },
   "outputs": [],
   "source": [
    "\"\"\"Check whether the function gives correct answer for n=0 and for n=3\"\"\"\n",
    "assert sumsquares(0) == 0, \"Sorry, sumsquares(0) should be 0\"\n",
    "assert sumsquares(3) == 14, \"Sorry, sumsquares(3) should be 14, since 1^2 + 2^2 + 3^2 = 14\""
   ]
  },
  {
   "cell_type": "code",
   "execution_count": 25,
   "metadata": {
    "deletable": false,
    "editable": false,
    "nbgrader": {
     "cell_type": "code",
     "checksum": "02f51a395be6012e7b2bde3268b73d16",
     "grade": true,
     "grade_id": "cell-q7-test2",
     "locked": true,
     "points": 1,
     "schema_version": 3,
     "solution": false,
     "task": false
    }
   },
   "outputs": [],
   "source": [
    "\"\"\"Check whether the function raises the ValueError if n is not a non-negative integer\"\"\"\n",
    "assert_raises(ValueError, sumsquares, 1.2)\n",
    "assert_raises(ValueError, sumsquares, -1)\n",
    "\n",
    "\"\"\"Check the exact content of the error message\"\"\"\n",
    "try:\n",
    "    sumsquares(1.2)\n",
    "except ValueError as ve:\n",
    "    err = str(ve)\n",
    "\n",
    "assert err == \"Sorry, n must be a whole number!\" , \"Your error message is wrong! Should be as suggested (verbatim!).\""
   ]
  },
  {
   "cell_type": "code",
   "execution_count": 26,
   "metadata": {
    "deletable": false,
    "editable": false,
    "nbgrader": {
     "cell_type": "code",
     "checksum": "1b1890466562a881d5e8b121160b4311",
     "grade": true,
     "grade_id": "cell-q7-hidden1",
     "locked": true,
     "points": 3,
     "schema_version": 3,
     "solution": false,
     "task": false
    }
   },
   "outputs": [
    {
     "data": {
      "text/plain": [
       "'Check whether the function gives correct answers for various values of n (hidden test)'"
      ]
     },
     "execution_count": 26,
     "metadata": {},
     "output_type": "execute_result"
    }
   ],
   "source": [
    "\"\"\"Check whether the function gives correct answers for various values of n (hidden test)\"\"\"\n"
   ]
  },
  {
   "cell_type": "code",
   "execution_count": 27,
   "metadata": {
    "deletable": false,
    "editable": false,
    "nbgrader": {
     "cell_type": "code",
     "checksum": "fc84c6770b266d2a58434a5c8f13ae79",
     "grade": true,
     "grade_id": "cell-q7-hidden2",
     "locked": true,
     "points": 3,
     "schema_version": 3,
     "solution": false,
     "task": false
    }
   },
   "outputs": [
    {
     "data": {
      "text/plain": [
       "'Check whether the function raises the ValueError if n is not a non-negative integer (hidden test)'"
      ]
     },
     "execution_count": 27,
     "metadata": {},
     "output_type": "execute_result"
    }
   ],
   "source": [
    "\"\"\"Check whether the function raises the ValueError if n is not a non-negative integer (hidden test)\"\"\"\n"
   ]
  }
 ],
 "metadata": {
  "kernelspec": {
   "display_name": "Python 3",
   "language": "python",
   "name": "python3"
  },
  "language_info": {
   "codemirror_mode": {
    "name": "ipython",
    "version": 3
   },
   "file_extension": ".py",
   "mimetype": "text/x-python",
   "name": "python",
   "nbconvert_exporter": "python",
   "pygments_lexer": "ipython3",
   "version": "3.8.10"
  }
 },
 "nbformat": 4,
 "nbformat_minor": 4
}
