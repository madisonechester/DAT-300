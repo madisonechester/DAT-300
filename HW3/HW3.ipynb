{
 "cells": [
  {
   "cell_type": "markdown",
   "metadata": {},
   "source": [
    "Before you turn this problem in, make sure everything runs as expected. First, **restart the kernel** (in the menubar, select Kernel$\\rightarrow$Restart) and then **run all cells** (in the menubar, select Cell$\\rightarrow$Run All).\n",
    "\n",
    "Make sure you fill in any place that says `YOUR CODE HERE` or \"YOUR ANSWER HERE\", as well as your name and collaborators below:"
   ]
  },
  {
   "cell_type": "code",
   "execution_count": 1,
   "metadata": {},
   "outputs": [],
   "source": [
    "NAME = \"Madison Chester\"\n",
    "COLLABORATORS = \"\""
   ]
  },
  {
   "cell_type": "markdown",
   "metadata": {},
   "source": [
    "---"
   ]
  },
  {
   "cell_type": "code",
   "execution_count": 2,
   "metadata": {
    "deletable": false,
    "editable": false,
    "nbgrader": {
     "cell_type": "code",
     "checksum": "7c7138c93a3d00e8972feab78d36c7ae",
     "grade": false,
     "grade_id": "cell-4c42e2a8001d57f1",
     "locked": true,
     "schema_version": 3,
     "solution": false,
     "task": false
    }
   },
   "outputs": [],
   "source": [
    "## DON'T FORGET to run this cell first\n",
    "##these modules are used for testing; \n",
    "import numpy as np\n",
    "import types\n",
    "from nose.tools import assert_equal, assert_raises"
   ]
  },
  {
   "cell_type": "markdown",
   "metadata": {
    "deletable": false,
    "editable": false,
    "nbgrader": {
     "cell_type": "markdown",
     "checksum": "60b4b8a4bfce2de9e7edba84b62ab93d",
     "grade": false,
     "grade_id": "cell-25af32daeac6c0d5",
     "locked": true,
     "schema_version": 3,
     "solution": false,
     "task": false
    }
   },
   "source": [
    "### Question 1.\n",
    "\n",
    "Consider the function $f(x,y)=x^2\\sin^3 y + 2{y^3\\over \\sqrt{x}}$.\n",
    "\n",
    "Define Python function `gradf(x,y)` which for each point `(x,y)` with $x>0$ gives the gradient $\\nabla f(x,y) = (f_x(x,y), f_y(x,y))$ as Python's tuple object.\n",
    "\n",
    "Use attribute `pi` from `numpy` for the value of $\\pi$. So, if `numpy` is imported as `np`, use `np.pi`"
   ]
  },
  {
   "cell_type": "code",
   "execution_count": 3,
   "metadata": {
    "deletable": false,
    "nbgrader": {
     "cell_type": "code",
     "checksum": "e4684747c0d9d5f3a3fdf3ccdf7e9483",
     "grade": false,
     "grade_id": "cell-0a17b28f4e682cc8",
     "locked": false,
     "schema_version": 3,
     "solution": true,
     "task": false
    }
   },
   "outputs": [],
   "source": [
    "\n",
    "def gradf(x,y):\n",
    "    dwrtx = (-y**3+2*x**(5/2)*(np.sin(y))**3)/x**(3/2)\n",
    "    dwrty = 3*x**2*(np.sin(y))**2*np.cos(y)+6*y**2/np.sqrt(x)\n",
    "    return (dwrtx,dwrty)\n"
   ]
  },
  {
   "cell_type": "code",
   "execution_count": 4,
   "metadata": {
    "deletable": false,
    "editable": false,
    "nbgrader": {
     "cell_type": "code",
     "checksum": "28d9692ef2f636935fc28e40fa71bd80",
     "grade": true,
     "grade_id": "cell-5f58d2a04594b549",
     "locked": true,
     "points": 1,
     "schema_version": 3,
     "solution": false,
     "task": false
    }
   },
   "outputs": [],
   "source": [
    "\"\"\"Check whether gradf is a function with a tuple output\"\"\"\n",
    "\n",
    "assert callable(gradf) , \"Sorry, you need gradf defined as a function\"\n",
    "assert isinstance(gradf(2,np.pi/4),tuple) , \"Sorry, your output is not a tuple.\"\n",
    "assert len(gradf(2,np.pi/4))==2 , \"Sorry, the answer should be a tuple of length 2\""
   ]
  },
  {
   "cell_type": "code",
   "execution_count": 5,
   "metadata": {
    "deletable": false,
    "editable": false,
    "nbgrader": {
     "cell_type": "code",
     "checksum": "27f3cd09f9aeadc09a485295f3e69989",
     "grade": true,
     "grade_id": "cell-001ad6f2fced1f85",
     "locked": true,
     "points": 2,
     "schema_version": 3,
     "solution": false,
     "task": false
    }
   },
   "outputs": [],
   "source": [
    "\"\"\"Check whether partial derivatives at (2,pi/4) i.e. 1st and 2nd entry of the vector gradf(2,np.pi/4) are correct\"\"\"\n",
    "\n",
    "assert abs(gradf(2,np.pi/4)[0] - 1.24292646471695) <= 1e-5  , \"Sorry, partial deriv. w.r.t. x is wrong\"\n",
    "\n",
    "assert abs(gradf(2,np.pi/4)[1] - 6.85971476198386) <= 1e-5  , \"Sorry, partial deriv. w.r.t. y is wrong\"\n",
    "\n"
   ]
  },
  {
   "cell_type": "code",
   "execution_count": 6,
   "metadata": {
    "deletable": false,
    "editable": false,
    "nbgrader": {
     "cell_type": "code",
     "checksum": "5e6e49590456f07903e6bf693c258c51",
     "grade": true,
     "grade_id": "cell-00dfd9fd0e351ff0",
     "locked": true,
     "points": 2,
     "schema_version": 3,
     "solution": false,
     "task": false
    }
   },
   "outputs": [],
   "source": [
    "\"\"\"Check whether gradf(3,np.pi/6) and gradf(5,np.pi/3) are correct\"\"\"\n",
    "\n",
    "assert np.linalg.norm(np.array(gradf(3,np.pi/6))-np.array((0.72237426, 6.79537460))) <= 1e-5  , \"Sorry, gradf(5,np.pi/3) is wrong\"\n",
    "\n",
    "assert np.linalg.norm(np.array(gradf(5,np.pi/3))-np.array((6.39247624, 31.0675475))) <= 1e-5  , \"Sorry, gradf(5,np.pi/3) is wrong\"\n"
   ]
  },
  {
   "cell_type": "code",
   "execution_count": 7,
   "metadata": {
    "deletable": false,
    "editable": false,
    "nbgrader": {
     "cell_type": "code",
     "checksum": "66c1dfe10268cb0121425a3d0262a774",
     "grade": true,
     "grade_id": "cell-f4d035ab0014060a",
     "locked": true,
     "points": 8,
     "schema_version": 3,
     "solution": false,
     "task": false
    }
   },
   "outputs": [
    {
     "data": {
      "text/plain": [
       "'Check whether the answer is correct (hidden test)'"
      ]
     },
     "execution_count": 7,
     "metadata": {},
     "output_type": "execute_result"
    }
   ],
   "source": [
    "\"\"\"Check whether the answer is correct (hidden test)\"\"\"\n"
   ]
  },
  {
   "cell_type": "markdown",
   "metadata": {
    "deletable": false,
    "editable": false,
    "nbgrader": {
     "cell_type": "markdown",
     "checksum": "fe183677f9420d06697d2168067d8544",
     "grade": false,
     "grade_id": "cell-03547fe658438937",
     "locked": true,
     "schema_version": 3,
     "solution": false,
     "task": false
    }
   },
   "source": [
    "### Computing Derivative Numerically\n",
    "\n",
    "<br>\n",
    "\n",
    "If $g:x \\mapsto g(x)$ is a function of one variable with very complicated formula for derivative, or, if the function (and thus its derivative) is not known at the time of writing the code, we can still write a code to compute the derivative using some numerical approximations. This is also useful when we have a lot of pairs $(x,g(x))$ of data (with $x$'s densely populated), but don't know the exact algebraic expression for $g$. \n",
    "\n",
    "The derivative $g'(a)=\\displaystyle \\lim_{u\\to 0}{g(a+u)-g(a)\\over u}$ can be computed by using one of the following:\n",
    "\n",
    "<br>\n",
    "\n",
    "*forward difference operator*\n",
    "\n",
    "$\\text{DForward}_g(a) = {g(a+h)-g(a)\\over h}$, for small step size $h>0$;\n",
    "\n",
    "<br>\n",
    "\n",
    "*backward difference operator*\n",
    "\n",
    "$\\text{DBackward}_g(a) = {g(a)-g(a-h)\\over h}$, for small $h>0$; \n",
    "\n",
    "<br>\n",
    "\n",
    "*central difference operator*\n",
    "\n",
    "$\\text{DCenter}_g(a) = {\\text{DForward}_g(a)\\,\\, + \\,\\, \\text{DBackward}_g(a) \\over 2} = {g(a+h)-g(a-h)\\over 2h}$, for small step size $h>0$\n",
    "\n",
    "<br>\n",
    "\n",
    "(check that the last formula is indeed the average of the first two).\n",
    "\n",
    "Based on their form, it should be clear why backward and forward difference operators give us approximations to the derivative $g'(a)=\\displaystyle \\lim_{u\\to 0}{g(a+u)-g(a)\\over u}$ &nbsp; (note that for $u=-h$, we have ${g(a)-g(a-h)\\over h} = {g(a+u)-g(a)\\over u}$).\n",
    "\n",
    "Therefore, their average, i.e. the central difference operator, is also an approximation of the derivative $g'(a)$. See the graph below to compare the three slopes geometrically they all approximate $g'(a)$ = the slope of the black line. The smaller the $h$, the better the approximations. \n",
    "\n",
    "<br>\n",
    "\n",
    "<img src=\"approx-derivative.png\" style=\"width: 700px;\"/>\n",
    "\n",
    "<br>\n",
    "\n",
    "Since $\\text{DCenter}_g(a)$ is the average of the forward and the backward difference formulas, it is not surprising that, as it turns out, the central difference formula is more accurate than the first two. More precisely, $\\text{DCenter}$ has 2nd order convergence rate, while $\\text{DForward}$ and $\\text{DBackward}$ are of the 1st order.\n",
    "\n",
    "\n",
    "<p style=\"font-size: 16px\">In the following problem, we apply centeral difference operator to compute partial derivatives of a function of two variables.</p>\n",
    "\n",
    "<br>"
   ]
  },
  {
   "cell_type": "markdown",
   "metadata": {
    "deletable": false,
    "editable": false,
    "nbgrader": {
     "cell_type": "markdown",
     "checksum": "cc16ba43335adcef58dfa6ec52d46152",
     "grade": false,
     "grade_id": "cell-ea1417b158c9310a",
     "locked": true,
     "schema_version": 3,
     "solution": false,
     "task": false
    }
   },
   "source": [
    "### Question 2\n",
    "\n",
    "Consider again the function  $f(x,y)=x^2\\sin^3 y + 2{y^3\\over \\sqrt{x}}$.\n",
    "\n",
    "In this problem we compute the gradient $\\nabla f = (f_x, f_y)$ numerically, using *centeral difference formula*, as explained below.\n",
    "\n",
    "First, create a Python function `f(x,y)` which, for any point $(x,y)$ with $x>0$, gives the value \n",
    "\n",
    "$x^2\\sin^3 y + 2{y^3\\over \\sqrt{x}}$ \n",
    "\n",
    "as an output (of type `float`).\n",
    "\n",
    "<br>\n",
    "\n",
    "Then, in the same notebook cell, write a Python function `gradfnum(x,y,h)` which for a given input point $(x,y)$ returns the gradient $\\nabla f(x,y) = (f_x(x,y), f_y(x,y))$ as a Python `tuple` object, computed numerically with the step size `h`>0, as explained below.\n",
    "\n",
    "For the step size `h>0`, use the central difference approximations\n",
    "\n",
    "$f_x(a,b) \\approx {f(a+h,b)-f(a-h,b)\\over 2 h}$\n",
    "\n",
    "and\n",
    "\n",
    "$f_y(a,b) \\approx {f(a,b+h) - f(a,b-h) \\over 2h}$\n",
    "\n",
    "<br>\n",
    "\n",
    "So, the output of `gradfnum()` should be 2-tuple with these two aproximated values. \n",
    "\n",
    "<br>\n",
    "\n",
    "**Note:** Each of the python functions `f(x,y)` and `gradfnum(x,y,h)` could be defined with just one or two lines of the code. You should use `numpy` methods `sin()` and `sqrt()` in `f(x,y)`. As per `gradfnum(x,y,h)`, no methods from any python module should be used in - just use the formulas given above.\n"
   ]
  },
  {
   "cell_type": "code",
   "execution_count": 8,
   "metadata": {
    "deletable": false,
    "nbgrader": {
     "cell_type": "code",
     "checksum": "46d1d96866eba0e2e00a1cb84ef1c6a0",
     "grade": false,
     "grade_id": "cell-633994cf589e968f",
     "locked": false,
     "schema_version": 3,
     "solution": true,
     "task": false
    }
   },
   "outputs": [],
   "source": [
    "\n",
    "def f(x,y):\n",
    "    return x**2*(np.sin(y))**3+2*y**3/np.sqrt(x)\n",
    "\n",
    "def gradfnum(x,y,h):\n",
    "    return ((f(x+h,y)-f(x-h,y))/(2*h),(f(x,y+h)-f(x,y-h))/(2*h))\n"
   ]
  },
  {
   "cell_type": "code",
   "execution_count": 9,
   "metadata": {
    "deletable": false,
    "editable": false,
    "nbgrader": {
     "cell_type": "code",
     "checksum": "d8dcfa801f37a46d1c48f55cc27ec09b",
     "grade": true,
     "grade_id": "cell-758fe293b156800a",
     "locked": true,
     "points": 2,
     "schema_version": 3,
     "solution": false,
     "task": false
    }
   },
   "outputs": [],
   "source": [
    "\"\"\"Check some values of f(x,y)\"\"\"\n",
    "\n",
    "assert np.abs(f(4,np.pi)-31.00627668) < 1e-4\n",
    "assert np.abs(f(1,np.pi/6) - (1/8 + 2*(np.pi/6)**3)) < 1e-4"
   ]
  },
  {
   "cell_type": "code",
   "execution_count": 10,
   "metadata": {
    "deletable": false,
    "editable": false,
    "nbgrader": {
     "cell_type": "code",
     "checksum": "8022c21d5b48f2a390e1f01c6f445e85",
     "grade": true,
     "grade_id": "cell-6ea46053badf5b57",
     "locked": true,
     "points": 2,
     "schema_version": 3,
     "solution": false,
     "task": false
    }
   },
   "outputs": [],
   "source": [
    "\"\"\"Check some values of mygradf\"\"\"\n",
    "\n",
    "assert np.linalg.norm(np.array(gradfnum(2,np.pi,h=1e-5)) - np.array((-10.96237425, 41.87318520))) <= 1e-4\n",
    "assert np.linalg.norm(np.array(gradfnum(5,np.pi/3,h=1e-5)) - np.array((6.39247624, 31.0675475))) <= 1e-4"
   ]
  },
  {
   "cell_type": "code",
   "execution_count": 11,
   "metadata": {
    "deletable": false,
    "editable": false,
    "nbgrader": {
     "cell_type": "code",
     "checksum": "4828e050fc7a35921dce2eb63e120774",
     "grade": true,
     "grade_id": "cell-f99221e31baab415",
     "locked": true,
     "points": 9,
     "schema_version": 3,
     "solution": false,
     "task": false
    }
   },
   "outputs": [
    {
     "data": {
      "text/plain": [
       "'Check whether the answer is correct (hidden test)'"
      ]
     },
     "execution_count": 11,
     "metadata": {},
     "output_type": "execute_result"
    }
   ],
   "source": [
    "\"\"\"Check whether the answer is correct (hidden test)\"\"\"\n"
   ]
  },
  {
   "cell_type": "markdown",
   "metadata": {
    "deletable": false,
    "editable": false,
    "nbgrader": {
     "cell_type": "markdown",
     "checksum": "dcfbbea0ef483f8c4c64c7e62a9b0b04",
     "grade": false,
     "grade_id": "cell-fd0852f9f917c9b6",
     "locked": true,
     "schema_version": 3,
     "solution": false,
     "task": false
    }
   },
   "source": [
    "### Question 3\n",
    "\n",
    "Create a python function `grad(f,x,y,h)` which for *any* function $f$ computes its gradient at $(x,y)$ numerically, using the central difference formula (like in the previous problem) and the step size $h>0$. The only difference from the previous problem is that now the function `f` is arbritrary, i.e. is an input argument.\n",
    "\n",
    "Note: The python function `grad(f,x,y,h)` could be defined with just one or two lines of the code. No python module should be used!"
   ]
  },
  {
   "cell_type": "code",
   "execution_count": 12,
   "metadata": {
    "deletable": false,
    "nbgrader": {
     "cell_type": "code",
     "checksum": "0969a3d5f871c1586748418c97761cea",
     "grade": false,
     "grade_id": "cell-q3-ans",
     "locked": false,
     "schema_version": 3,
     "solution": true,
     "task": false
    }
   },
   "outputs": [],
   "source": [
    "\n",
    "def grad(f,x,y,h):\n",
    "    return ((f(x+h,y)-f(x-h,y))/(2*h),(f(x,y+h)-f(x,y-h))/(2*h))\n"
   ]
  },
  {
   "cell_type": "code",
   "execution_count": 13,
   "metadata": {
    "deletable": false,
    "editable": false,
    "nbgrader": {
     "cell_type": "code",
     "checksum": "da9d52a9359fb96a666648862ffc5291",
     "grade": true,
     "grade_id": "cell-q3-test1",
     "locked": true,
     "points": 3,
     "schema_version": 3,
     "solution": false,
     "task": false
    }
   },
   "outputs": [],
   "source": [
    "\"\"\"Check grad for functions x^2*y and x^2+y^2 at some points\"\"\"\n",
    "\n",
    "assert np.linalg.norm(np.array(grad(lambda x,y: x**2 *y, 2,-3, 1e-4)) - np.array((-12,4))) <= 1e-5\n",
    "assert np.linalg.norm(np.array(grad(lambda x,y: x**2 *y, -2, 5, 1e-4)) - np.array((-20,4))) <= 1e-5\n",
    "assert np.linalg.norm(np.array(grad(lambda x,y: x**2 + y**2 + 2, 0.4, -0.2, 1e-4)) - np.array((0.8, -0.4))) <= 1e-5"
   ]
  },
  {
   "cell_type": "code",
   "execution_count": 14,
   "metadata": {
    "deletable": false,
    "editable": false,
    "nbgrader": {
     "cell_type": "code",
     "checksum": "f94e2beef2069eb855415ac2cbb7a847",
     "grade": true,
     "grade_id": "cell-q3-test2",
     "locked": true,
     "points": 9,
     "schema_version": 3,
     "solution": false,
     "task": false
    }
   },
   "outputs": [
    {
     "data": {
      "text/plain": [
       "'Check whether the answer is correct for some more functions and points (hidden test)'"
      ]
     },
     "execution_count": 14,
     "metadata": {},
     "output_type": "execute_result"
    }
   ],
   "source": [
    "\"\"\"Check whether the answer is correct for some more functions and points (hidden test)\"\"\"\n"
   ]
  },
  {
   "cell_type": "markdown",
   "metadata": {
    "deletable": false,
    "editable": false,
    "nbgrader": {
     "cell_type": "markdown",
     "checksum": "6f6e17ad3ebbebfdeff83840da30c90c",
     "grade": false,
     "grade_id": "cell-b02ca7ae5d0e26bf",
     "locked": true,
     "schema_version": 3,
     "solution": false,
     "task": false
    }
   },
   "source": [
    "### Question 4\n",
    "\n",
    "Create Python function `DDeriv(f,x,y,h,v)` which, for a given function $f$ and given point $(x,y)$, step size $h>0$ and vector $\\vec{v}$, computes directional derivative $Df_{{\\vec{v}\\over \\|\\vec{v}\\|}}(x,y)$ of $f$ at $(x,y)$ in the direction $\\vec{v}$. Note that we need to normalize $\\vec{v}$ to compute this directional derivate by\n",
    "\n",
    "$$D_{{\\vec{v}\\over \\|\\vec{v}\\|}}f(x,y) = \\langle f_x(x,y) , f_y(x,y) \\rangle \\cdot {\\vec{v}\\over \\|\\vec{v}\\|}$$\n",
    "\n",
    "where the partial derivatives are computed numerically by central difference formulae:\n",
    "\n",
    "$f_x(x,y) \\approx {f(x+h,y)-f(x-h,y)\\over 2 h}$\n",
    "\n",
    "$f_y(x,y) \\approx {f(x,y+h) - f(x,y-h) \\over 2h}$\n",
    "\n",
    "<br>\n",
    "\n",
    "You may want to use `numpy` method `dot()` for dot product, and `linalg.norm()` for the norm of a vector.\n",
    "\n",
    "That is, if `numpy` is imported with alias `np` (as it is at the beginning of this notebook), then \n",
    "\n",
    "<br>\n",
    "\n",
    "* use `np.dot(v1,v2)` for dot product of vectors `v1` and `v2` (with `v1` and `v2` being tuples or list objects)\n",
    "\n",
    "\n",
    "* use `np.linalg.norm(v)` for the norm of the vector `v` (with `v` being a tuple or a list object)\n"
   ]
  },
  {
   "cell_type": "code",
   "execution_count": 15,
   "metadata": {
    "deletable": false,
    "nbgrader": {
     "cell_type": "code",
     "checksum": "5bad8fc3d511b323ef32e3852d50d049",
     "grade": false,
     "grade_id": "cell-q4-ans",
     "locked": false,
     "schema_version": 3,
     "solution": true,
     "task": false
    }
   },
   "outputs": [],
   "source": [
    "\n",
    "def DDeriv(f,x,y,h,v):\n",
    "    dwrtx = (f(x+h,y)-f(x-h,y))/(2*h)\n",
    "    dwrty = (f(x,y+h)-f(x,y-h))/(2*h)\n",
    "    norm_vec = np.linalg.norm(v)\n",
    "    return (np.dot((dwrtx,dwrty),v/norm_vec))\n"
   ]
  },
  {
   "cell_type": "code",
   "execution_count": 16,
   "metadata": {
    "deletable": false,
    "editable": false,
    "nbgrader": {
     "cell_type": "code",
     "checksum": "7280cc18a1f55358f8095b697c745c7e",
     "grade": true,
     "grade_id": "cell-q4-test1",
     "locked": true,
     "points": 3,
     "schema_version": 3,
     "solution": false,
     "task": false
    }
   },
   "outputs": [],
   "source": [
    "\"\"\"Check whether your answer is correct for some functions and at some points and in some directions\"\"\"\n",
    "\n",
    "assert np.abs(DDeriv(f = lambda x,y: x**2+y**2+2, x=0.4, y=-0.2, h=1e-5, v=(0.6,0.8)) - 0.16) <= 1e-4\n",
    "assert np.abs(DDeriv(f = lambda x,y: x**2 *y - 3* y**3, x=-2, y=1, h=1e-5, v=(3,4)) - (-6.4)) <= 1e-4\n"
   ]
  },
  {
   "cell_type": "code",
   "execution_count": 17,
   "metadata": {
    "deletable": false,
    "editable": false,
    "nbgrader": {
     "cell_type": "code",
     "checksum": "7ad9dbc9290529733b6d7023fc23cb37",
     "grade": true,
     "grade_id": "cell-q4-test2",
     "locked": true,
     "points": 9,
     "schema_version": 3,
     "solution": false,
     "task": false
    }
   },
   "outputs": [
    {
     "data": {
      "text/plain": [
       "'Check whether your answer is correct in some more cases (hidden test)'"
      ]
     },
     "execution_count": 17,
     "metadata": {},
     "output_type": "execute_result"
    }
   ],
   "source": [
    "\"\"\"Check whether your answer is correct in some more cases (hidden test)\"\"\"\n"
   ]
  }
 ],
 "metadata": {
  "kernelspec": {
   "display_name": "Python 3",
   "language": "python",
   "name": "python3"
  },
  "language_info": {
   "codemirror_mode": {
    "name": "ipython",
    "version": 3
   },
   "file_extension": ".py",
   "mimetype": "text/x-python",
   "name": "python",
   "nbconvert_exporter": "python",
   "pygments_lexer": "ipython3",
   "version": "3.8.10"
  }
 },
 "nbformat": 4,
 "nbformat_minor": 4
}
