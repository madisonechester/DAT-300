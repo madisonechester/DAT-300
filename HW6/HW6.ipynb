{
 "cells": [
  {
   "cell_type": "markdown",
   "metadata": {},
   "source": [
    "Before you turn this problem in, make sure everything runs as expected. First, **restart the kernel** (in the menubar, select Kernel$\\rightarrow$Restart) and then **run all cells** (in the menubar, select Cell$\\rightarrow$Run All).\n",
    "\n",
    "Make sure you fill in any place that says `YOUR CODE HERE` or \"YOUR ANSWER HERE\", as well as your name and collaborators below:"
   ]
  },
  {
   "cell_type": "code",
   "execution_count": 1,
   "metadata": {},
   "outputs": [],
   "source": [
    "NAME = \"Madison Chester\"\n",
    "COLLABORATORS = \"\""
   ]
  },
  {
   "cell_type": "markdown",
   "metadata": {},
   "source": [
    "---"
   ]
  },
  {
   "cell_type": "code",
   "execution_count": 2,
   "metadata": {
    "deletable": false,
    "editable": false,
    "nbgrader": {
     "cell_type": "code",
     "checksum": "776f3ba862076eaf0a4f92b3a9bc6442",
     "grade": false,
     "grade_id": "cell-e29a36c4840a2755",
     "locked": true,
     "schema_version": 3,
     "solution": false,
     "task": false
    }
   },
   "outputs": [],
   "source": [
    "##this is used for testing\n",
    "import numpy as np\n",
    "import types\n",
    "from nose.tools import assert_equal, assert_raises\n",
    "import scipy.stats, scipy.special\n"
   ]
  },
  {
   "cell_type": "markdown",
   "metadata": {
    "deletable": false,
    "editable": false,
    "nbgrader": {
     "cell_type": "markdown",
     "checksum": "16908e7336a3aba5eba3a6bd036b4b33",
     "grade": false,
     "grade_id": "cell-a3420c467b3efb69",
     "locked": true,
     "schema_version": 3,
     "solution": false,
     "task": false
    }
   },
   "source": [
    "### Binomial Coefficient $N\\choose k$ in Python\n",
    "\n",
    "\n",
    "The above cell imports `scipy.special`, which is a subpackage of `scipy` and contains method `comb(N,k)`, This method can be used to compute binomial coefficient ${N \\choose k} = {N\\cdot (N-1)\\cdot \\,.\\,.\\,.\\, \\cdot (N-k+1)\\over k!} = {N!\\over k!\\,(N-k)!}$, i.e. the number of ways of choosing a subset of $k$ objects from a set of $N$ objects.\n",
    "\n",
    "For example, if you need number of ways of choosing 3 out of 7 balls from a box, that number can be found by calling \n",
    "\n",
    "`scipy.special.comb(7,3)`\n",
    "\n",
    "\n",
    "Feel free to use `scipy.special.comb()` in this assignment.\n",
    "\n",
    "<br>\n",
    "\n",
    "In addition, if you want to compute factorial $n! = n\\cdot (n-1)\\cdot (n-2)\\cdot\\, \\dots \\, \\cdot 2\\cdot 1$, you can use \n",
    "\n",
    "`scipy.special.factorial(n)`\n",
    "\n",
    "<br>\n"
   ]
  },
  {
   "cell_type": "markdown",
   "metadata": {
    "deletable": false,
    "editable": false,
    "nbgrader": {
     "cell_type": "markdown",
     "checksum": "7c308091a801d3d78d21b06c3ad19965",
     "grade": false,
     "grade_id": "cell-ff4ef92dbc0a6172",
     "locked": true,
     "schema_version": 3,
     "solution": false,
     "task": false
    }
   },
   "source": [
    "### Question 1\n",
    "\n",
    "\n",
    "A die is rolled 10 times. Let $X$ be the number of times six appears in these 10 rolls.\n",
    "\n",
    "\n",
    "\n",
    "#### Part a)\n",
    "\n",
    "What is the probability that $X \\in \\{4,5\\}$, i.e. that six appears 4 or 5 times? Do NOT round your answer.\n",
    "\n",
    "\n",
    "Write your answer as\n",
    "\n",
    "`ans = <some expression>`\n",
    "\n",
    "For example, if you think the answer is `1/36` you should create variable `ans` as\n",
    "\n",
    "`ans = 1/36`\n",
    "\n",
    "**IMPORTANT:** Just typing `1/36`, or `answer = 1/36` is not acceptable. Also, do NOT put dot at the end (this is a python code, not a sentence in English). Your answer will be graded automatically, and the test code expects you to create a Python variable called `ans`, and the code will test the value of `ans`.\n",
    "\n",
    "\n",
    "<br>\n"
   ]
  },
  {
   "cell_type": "code",
   "execution_count": 3,
   "metadata": {
    "deletable": false,
    "nbgrader": {
     "cell_type": "code",
     "checksum": "6b23b598f5a980ff630452cfe5b96f78",
     "grade": false,
     "grade_id": "cell-f6023e5dd46727b2",
     "locked": false,
     "schema_version": 3,
     "solution": true,
     "task": false
    }
   },
   "outputs": [],
   "source": [
    "\n",
    "ans = (scipy.special.comb(10,4)*((1/6)**4)*((5/6)**6)) + (scipy.special.comb(10,5)*((1/6)**5)*((5/6)**5))\n"
   ]
  },
  {
   "cell_type": "code",
   "execution_count": 4,
   "metadata": {
    "deletable": false,
    "editable": false,
    "nbgrader": {
     "cell_type": "code",
     "checksum": "f64647016730e96411991fdb96de7d05",
     "grade": true,
     "grade_id": "cell-66b87fb61afca9a5",
     "locked": true,
     "points": 1,
     "schema_version": 3,
     "solution": false,
     "task": false
    }
   },
   "outputs": [],
   "source": [
    "\"\"\"Check whether the answer is numeric and from the interval [0,1] - since it's a probability\"\"\"\n",
    "\n",
    "assert isinstance(ans,float)\n",
    "assert (0 <= ans) & (ans <= 1)  , \"Sorry, the answer should be a probability, which means a number from [0,1]\"\n"
   ]
  },
  {
   "cell_type": "code",
   "execution_count": 5,
   "metadata": {
    "deletable": false,
    "editable": false,
    "nbgrader": {
     "cell_type": "code",
     "checksum": "3ed4133e4b1aa9c6899cdbdd761535e2",
     "grade": true,
     "grade_id": "cell-f975819f6db50750",
     "locked": true,
     "points": 2,
     "schema_version": 3,
     "solution": false,
     "task": false
    }
   },
   "outputs": [],
   "source": [
    "\"\"\"Check whether in the 5th and 6th decimal place are 8 and 9, respectively\"\"\"\n",
    "\n",
    "assert np.mod(int(np.floor(ans*10**6)),100) == 89,  \"Sorry, wrong answer\"\n"
   ]
  },
  {
   "cell_type": "code",
   "execution_count": 6,
   "metadata": {
    "deletable": false,
    "editable": false,
    "nbgrader": {
     "cell_type": "code",
     "checksum": "df75beaf87b2318db8f3701f1da5a902",
     "grade": true,
     "grade_id": "cell-bff80c5cfb3c2b80",
     "locked": true,
     "points": 7,
     "schema_version": 3,
     "solution": false,
     "task": false
    }
   },
   "outputs": [
    {
     "data": {
      "text/plain": [
       "'Check whether the answer is correct (hidden test)'"
      ]
     },
     "execution_count": 6,
     "metadata": {},
     "output_type": "execute_result"
    }
   ],
   "source": [
    "\"\"\"Check whether the answer is correct (hidden test)\"\"\"\n",
    "\n"
   ]
  },
  {
   "cell_type": "markdown",
   "metadata": {
    "deletable": false,
    "editable": false,
    "nbgrader": {
     "cell_type": "markdown",
     "checksum": "ed755d87ef93d0f7733d3f4c34012275",
     "grade": false,
     "grade_id": "cell-d7675bc4182163ac",
     "locked": true,
     "schema_version": 3,
     "solution": false,
     "task": false
    }
   },
   "source": [
    "#### Part b)\n",
    "\n",
    "What is the probability that six appears even number of times? (i.e. $P(X\\in\\{0,2,4,6,8,10\\}) = ?$). Do NOT round your answer!\n",
    "\n",
    "Write your answer as \n",
    "\n",
    "`ans = <some expression>`\n",
    "\n",
    "You can use `binom.pmf()` method from `scipy.stats` subpackage to compute probability mass function at desired possible values of random variable $X\\sim\\mathcal{B}in(n; p)$. To do that, you can call\n",
    "\n",
    "`scipy.stats.binom.pmf(k, n, p)`\n",
    "\n",
    "where `k` is an array-like object (a list, range, numpy array, etc.) representing desired values $X$ should take;`n` = number of trials; `p` = probability of success in each trial."
   ]
  },
  {
   "cell_type": "code",
   "execution_count": 7,
   "metadata": {
    "deletable": false,
    "nbgrader": {
     "cell_type": "code",
     "checksum": "e0a23ebe996c286cd267e7981b60b3ed",
     "grade": false,
     "grade_id": "cell-47281b4aeac25572",
     "locked": false,
     "schema_version": 3,
     "solution": true,
     "task": false
    }
   },
   "outputs": [],
   "source": [
    "\n",
    "ans = scipy.stats.binom.pmf(0,10,(1/6)) + scipy.stats.binom.pmf(2,10,(1/6)) + scipy.stats.binom.pmf(4,10,(1/6)) + scipy.stats.binom.pmf(6,10,(1/6)) + scipy.stats.binom.pmf(8,10,(1/6)) + scipy.stats.binom.pmf(10,10,(1/6))\n",
    "\n"
   ]
  },
  {
   "cell_type": "code",
   "execution_count": 8,
   "metadata": {
    "deletable": false,
    "editable": false,
    "nbgrader": {
     "cell_type": "code",
     "checksum": "da355ba96a19d85e562ac6dbf7076b16",
     "grade": true,
     "grade_id": "cell-e56164e03577f41f",
     "locked": true,
     "points": 1,
     "schema_version": 3,
     "solution": false,
     "task": false
    }
   },
   "outputs": [],
   "source": [
    "\"\"\"Check whether the answer is numeric and from the interval [0,1] - since it's a probability\"\"\"\n",
    "\n",
    "assert isinstance(ans,float)\n",
    "assert (0 <= ans) & (ans <= 1)  , \"Sorry, the answer should be a probability, which means a number from [0,1]\"\n"
   ]
  },
  {
   "cell_type": "code",
   "execution_count": 9,
   "metadata": {
    "deletable": false,
    "editable": false,
    "nbgrader": {
     "cell_type": "code",
     "checksum": "c02ef89651c800550272d7ef8a0488e3",
     "grade": true,
     "grade_id": "cell-c9b28e3766fcf718",
     "locked": true,
     "points": 2,
     "schema_version": 3,
     "solution": false,
     "task": false
    }
   },
   "outputs": [],
   "source": [
    "\"\"\"Check whether in the 5th and 6th decimal place are 7 and 0, respectively\"\"\"\n",
    "\n",
    "assert np.mod(int(np.floor(ans*10**6)),100) == 70,  \"Sorry, wrong answer\""
   ]
  },
  {
   "cell_type": "code",
   "execution_count": 10,
   "metadata": {
    "deletable": false,
    "editable": false,
    "nbgrader": {
     "cell_type": "code",
     "checksum": "b2f94f69d5c38b2aca96e077c8b41160",
     "grade": true,
     "grade_id": "cell-02388986b9763bd5",
     "locked": true,
     "points": 8,
     "schema_version": 3,
     "solution": false,
     "task": false
    }
   },
   "outputs": [
    {
     "data": {
      "text/plain": [
       "'Check whether the answer is correct (hidden test)'"
      ]
     },
     "execution_count": 10,
     "metadata": {},
     "output_type": "execute_result"
    }
   ],
   "source": [
    "\"\"\"Check whether the answer is correct (hidden test)\"\"\"\n",
    "\n"
   ]
  },
  {
   "cell_type": "markdown",
   "metadata": {
    "deletable": false,
    "editable": false,
    "nbgrader": {
     "cell_type": "markdown",
     "checksum": "1a1c3b1b2950b61029bf649509110842",
     "grade": false,
     "grade_id": "cell-4766ae885ab44c9d",
     "locked": true,
     "schema_version": 3,
     "solution": false,
     "task": false
    }
   },
   "source": [
    "#### Part c)\n",
    "\n",
    "What is the expected value $E[X]$? Do NOT round your answer!\n",
    "\n",
    "Write your answer as \n",
    "\n",
    "`ans = <some expression>`\n",
    "\n",
    "<br>\n"
   ]
  },
  {
   "cell_type": "code",
   "execution_count": 11,
   "metadata": {
    "deletable": false,
    "nbgrader": {
     "cell_type": "code",
     "checksum": "83902e03f52edd152f7fd0077213b9d2",
     "grade": false,
     "grade_id": "cell-844c8202fe8a7c47",
     "locked": false,
     "schema_version": 3,
     "solution": true,
     "task": false
    }
   },
   "outputs": [],
   "source": [
    "\n",
    "ans = 10 * (1/6)\n"
   ]
  },
  {
   "cell_type": "code",
   "execution_count": 12,
   "metadata": {
    "deletable": false,
    "editable": false,
    "nbgrader": {
     "cell_type": "code",
     "checksum": "7e6a67b7bdc82154d764290751b3ec31",
     "grade": true,
     "grade_id": "cell-299f2bc522fdb0ba",
     "locked": true,
     "points": 1,
     "schema_version": 3,
     "solution": false,
     "task": false
    }
   },
   "outputs": [],
   "source": [
    "\"\"\"Check whether the answer's 7'th decimal digit is 6\"\"\"\n",
    "\n",
    "assert isinstance(ans,float)\n",
    "assert np.mod(int(np.floor(ans*10**7)),10) == 6,  \"Sorry, wrong answer\"\n"
   ]
  },
  {
   "cell_type": "code",
   "execution_count": 13,
   "metadata": {
    "deletable": false,
    "editable": false,
    "nbgrader": {
     "cell_type": "code",
     "checksum": "5057d465d0487ad63e9f539599ff0427",
     "grade": true,
     "grade_id": "cell-0c68a28373b1fc7b",
     "locked": true,
     "points": 6,
     "schema_version": 3,
     "solution": false,
     "task": false
    }
   },
   "outputs": [
    {
     "data": {
      "text/plain": [
       "'Check whether the answer is correct (hidden test)'"
      ]
     },
     "execution_count": 13,
     "metadata": {},
     "output_type": "execute_result"
    }
   ],
   "source": [
    "\"\"\"Check whether the answer is correct (hidden test)\"\"\"\n",
    "\n"
   ]
  },
  {
   "cell_type": "markdown",
   "metadata": {
    "deletable": false,
    "editable": false,
    "nbgrader": {
     "cell_type": "markdown",
     "checksum": "69eaa918359965320756d4693ddd85c4",
     "grade": false,
     "grade_id": "cell-5ec07d91ba0b46ce",
     "locked": true,
     "schema_version": 3,
     "solution": false,
     "task": false
    }
   },
   "source": [
    "### Question 2\n",
    "\n",
    "Consider two boxes. Box **A** contains <font style=\"color: blue\">7 blue</font> and <font style=\"color: red\">5 red</font> marbles, while box **B** contains <font style=\"color: blue\">6 blue</font> and <font style=\"color: red\">8 red</font> marbles. A box is selected at random, and 4 marbles are drawn from it at random.\n",
    "\n",
    "Let $X = $ number of <font style=\"color: blue\">blue </font> balls in the sample of 4 marbles. \n",
    "\n",
    "\n",
    "#### Part a)\n",
    "\n",
    "Create a python function `prob()` with only one input variable `k`, and which for any $k \\in \\{0,1,2,3,4\\}$ computes the value of $P(X=k)$. Do NOT round the output values $P(X=k)$.\n",
    "\n",
    "<br>\n",
    "\n",
    "\n"
   ]
  },
  {
   "cell_type": "code",
   "execution_count": 14,
   "metadata": {
    "deletable": false,
    "nbgrader": {
     "cell_type": "code",
     "checksum": "1d9d89fd027dc1f18e72b77c41baa122",
     "grade": false,
     "grade_id": "cell-51b7dd2c4839fb7d",
     "locked": false,
     "schema_version": 3,
     "solution": true,
     "task": false
    }
   },
   "outputs": [],
   "source": [
    "\n",
    "def prob(k):\n",
    "    box1_numerator = scipy.special.comb(7,k)*scipy.special.comb(5,4-k)\n",
    "    box1_denominator = 2*scipy.special.comb(12,4)\n",
    "    box2_numerator = scipy.special.comb(6,k)*scipy.special.comb(8,4-k)\n",
    "    box2_denominator = 2*scipy.special.comb(14,4)\n",
    "    box1 = box1_numerator/box1_denominator\n",
    "    box2 = box2_numerator/box2_denominator\n",
    "    return box1+box2\n"
   ]
  },
  {
   "cell_type": "code",
   "execution_count": 15,
   "metadata": {
    "deletable": false,
    "editable": false,
    "nbgrader": {
     "cell_type": "code",
     "checksum": "0b5eb867ed26843dc5e5bc2935db3977",
     "grade": true,
     "grade_id": "cell-dd7567e4b92a7299",
     "locked": true,
     "points": 1,
     "schema_version": 3,
     "solution": false,
     "task": false
    }
   },
   "outputs": [],
   "source": [
    "\"\"\"Check whether function prob is defined and has input parameter k\"\"\"\n",
    "\n",
    "assert callable(prob), \"Sorry, you didn't define function prob()\"\n",
    "assert (0 <= prob(k=4)) & (prob(k=4) <= 1)  , \"Sorry, prob(4) is a probability, which means a number from [0,1]\"\n"
   ]
  },
  {
   "cell_type": "code",
   "execution_count": 16,
   "metadata": {
    "deletable": false,
    "editable": false,
    "nbgrader": {
     "cell_type": "code",
     "checksum": "796d675df81f9e6a79966ffcea6e0427",
     "grade": true,
     "grade_id": "cell-b0b35c9cfce5ac4a",
     "locked": true,
     "points": 1,
     "schema_version": 3,
     "solution": false,
     "task": false
    }
   },
   "outputs": [],
   "source": [
    "\"\"\"Check whether all the probabilities sum up to 1\"\"\"\n",
    "\n",
    "assert abs(sum(np.array([prob(k) for k in range(5)])) - 1) < 1e-8  ,  \"Sorry, sum of all prob(k), k=0,1,2,3,4 MUST be 1\""
   ]
  },
  {
   "cell_type": "code",
   "execution_count": 17,
   "metadata": {
    "deletable": false,
    "editable": false,
    "nbgrader": {
     "cell_type": "code",
     "checksum": "30fb4556df94dbc981ca6a2a98f50803",
     "grade": true,
     "grade_id": "cell-ba1b83efc87120e4",
     "locked": true,
     "points": 1,
     "schema_version": 3,
     "solution": false,
     "task": false
    }
   },
   "outputs": [],
   "source": [
    "\"\"\"Check whether the 6th decimal digit of prob(k=3) is 7\"\"\"\n",
    "\n",
    "assert np.mod(int(np.floor(prob(3) * 10**6)), 10) == 7 , \"Sorry, wrong answer\""
   ]
  },
  {
   "cell_type": "code",
   "execution_count": 18,
   "metadata": {
    "deletable": false,
    "editable": false,
    "nbgrader": {
     "cell_type": "code",
     "checksum": "6a3d94055fe61f3e7386d23d9d06e9e4",
     "grade": true,
     "grade_id": "cell-5ba37b4795cab141",
     "locked": true,
     "points": 8,
     "schema_version": 3,
     "solution": false,
     "task": false
    }
   },
   "outputs": [
    {
     "data": {
      "text/plain": [
       "'Check whether the answer is correct (hidden test)'"
      ]
     },
     "execution_count": 18,
     "metadata": {},
     "output_type": "execute_result"
    }
   ],
   "source": [
    "\"\"\"Check whether the answer is correct (hidden test)\"\"\"\n",
    "\n"
   ]
  },
  {
   "cell_type": "markdown",
   "metadata": {
    "deletable": false,
    "editable": false,
    "nbgrader": {
     "cell_type": "markdown",
     "checksum": "3c058d0d677c45d888271d9b47e671c4",
     "grade": false,
     "grade_id": "cell-ad48519f4f6d4f33",
     "locked": true,
     "schema_version": 3,
     "solution": false,
     "task": false
    }
   },
   "source": [
    "#### Part b)\n",
    "\n",
    "Find $E[X]$, the expected number of blue balls in the sample.  Do NOT round your answer!\n",
    "\n",
    "Write your answer as \n",
    "\n",
    "`ans = <some expression>`\n",
    "\n",
    "<br>\n",
    "\n",
    "You can use `np.dot()` for dot product of two array-like python objects.\n",
    "\n",
    "<br>\n",
    "\n"
   ]
  },
  {
   "cell_type": "code",
   "execution_count": 19,
   "metadata": {
    "deletable": false,
    "nbgrader": {
     "cell_type": "code",
     "checksum": "b2d73bb5718b8cb5f31922dc8132daf9",
     "grade": false,
     "grade_id": "cell-d84b5d016b3c1a43",
     "locked": false,
     "schema_version": 3,
     "solution": true,
     "task": false
    }
   },
   "outputs": [],
   "source": [
    "\n",
    "ans = (0*prob(0)) + (1*prob(1)) + (2*prob(2)) + (3*prob(3)) + (4*prob(4))\n"
   ]
  },
  {
   "cell_type": "code",
   "execution_count": 20,
   "metadata": {
    "deletable": false,
    "editable": false,
    "nbgrader": {
     "cell_type": "code",
     "checksum": "78c84730c32de220fb75716eb8268019",
     "grade": true,
     "grade_id": "cell-96d4707c591ce107",
     "locked": true,
     "points": 1,
     "schema_version": 3,
     "solution": false,
     "task": false
    }
   },
   "outputs": [],
   "source": [
    "\"\"\"Check whether the answer is numeric\"\"\"\n",
    "\n",
    "assert isinstance(ans,float)  ,  \"Sorry, wrong answer\"\n"
   ]
  },
  {
   "cell_type": "code",
   "execution_count": 21,
   "metadata": {
    "deletable": false,
    "editable": false,
    "nbgrader": {
     "cell_type": "code",
     "checksum": "be924be72fd66cf2b9d5ee7739ae5962",
     "grade": true,
     "grade_id": "cell-c540e957d61275dc",
     "locked": true,
     "points": 2,
     "schema_version": 3,
     "solution": false,
     "task": false
    }
   },
   "outputs": [],
   "source": [
    "\"\"\"Check whether the 6th and 7th decimal digits of E[X] are 9 and 5, respectively\"\"\"\n",
    "\n",
    "assert np.mod(int(np.floor(ans * 10**7)), 100) == 95 , \"Sorry, wrong answer\""
   ]
  },
  {
   "cell_type": "code",
   "execution_count": 22,
   "metadata": {
    "deletable": false,
    "editable": false,
    "nbgrader": {
     "cell_type": "code",
     "checksum": "562414f3ac94d5b7e4e44535906c6fdf",
     "grade": true,
     "grade_id": "cell-09887c75fd5f4e23",
     "locked": true,
     "points": 8,
     "schema_version": 3,
     "solution": false,
     "task": false
    }
   },
   "outputs": [
    {
     "data": {
      "text/plain": [
       "'Check whether the answer is correct (hidden test)'"
      ]
     },
     "execution_count": 22,
     "metadata": {},
     "output_type": "execute_result"
    }
   ],
   "source": [
    "\"\"\"Check whether the answer is correct (hidden test)\"\"\"\n"
   ]
  }
 ],
 "metadata": {
  "kernelspec": {
   "display_name": "Python 3",
   "language": "python",
   "name": "python3"
  },
  "language_info": {
   "codemirror_mode": {
    "name": "ipython",
    "version": 3
   },
   "file_extension": ".py",
   "mimetype": "text/x-python",
   "name": "python",
   "nbconvert_exporter": "python",
   "pygments_lexer": "ipython3",
   "version": "3.8.10"
  }
 },
 "nbformat": 4,
 "nbformat_minor": 4
}
