{
 "cells": [
  {
   "cell_type": "markdown",
   "metadata": {},
   "source": [
    "Before you turn this problem in, make sure everything runs as expected. First, **restart the kernel** (in the menubar, select Kernel$\\rightarrow$Restart) and then **run all cells** (in the menubar, select Cell$\\rightarrow$Run All).\n",
    "\n",
    "Make sure you fill in any place that says `YOUR CODE HERE` or \"YOUR ANSWER HERE\", as well as your name and collaborators below:"
   ]
  },
  {
   "cell_type": "code",
   "execution_count": 1,
   "metadata": {},
   "outputs": [],
   "source": [
    "NAME = \"Madison Chester\"\n",
    "COLLABORATORS = \"\""
   ]
  },
  {
   "cell_type": "markdown",
   "metadata": {},
   "source": [
    "---"
   ]
  },
  {
   "cell_type": "code",
   "execution_count": 2,
   "metadata": {
    "deletable": false,
    "editable": false,
    "nbgrader": {
     "cell_type": "code",
     "checksum": "d0674212f378d904a3de7e747027a1d8",
     "grade": false,
     "grade_id": "cell-e29a36c4840a2755",
     "locked": true,
     "schema_version": 3,
     "solution": false,
     "task": false
    }
   },
   "outputs": [],
   "source": [
    "##this is used for testing\n",
    "import numpy as np\n",
    "import types\n",
    "from nose.tools import assert_equal, assert_raises\n",
    "import scipy.special\n"
   ]
  },
  {
   "cell_type": "markdown",
   "metadata": {
    "deletable": false,
    "editable": false,
    "nbgrader": {
     "cell_type": "markdown",
     "checksum": "16908e7336a3aba5eba3a6bd036b4b33",
     "grade": false,
     "grade_id": "cell-a3420c467b3efb69",
     "locked": true,
     "schema_version": 3,
     "solution": false,
     "task": false
    }
   },
   "source": [
    "### Binomial Coefficient $N\\choose k$ in Python\n",
    "\n",
    "\n",
    "The above cell imports `scipy.special`, which is a subpackage of `scipy` and contains method `comb(N,k)`, This method can be used to compute binomial coefficient ${N \\choose k} = {N\\cdot (N-1)\\cdot \\,.\\,.\\,.\\, \\cdot (N-k+1)\\over k!} = {N!\\over k!\\,(N-k)!}$, i.e. the number of ways of choosing a subset of $k$ objects from a set of $N$ objects.\n",
    "\n",
    "For example, if you need number of ways of choosing 3 out of 7 balls from a box, that number can be found by calling \n",
    "\n",
    "`scipy.special.comb(7,3)`\n",
    "\n",
    "\n",
    "Feel free to use `scipy.special.comb()` in this assignment.\n",
    "\n",
    "<br>\n",
    "\n",
    "In addition, if you want to compute factorial $n! = n\\cdot (n-1)\\cdot (n-2)\\cdot\\, \\dots \\, \\cdot 2\\cdot 1$, you can use \n",
    "\n",
    "`scipy.special.factorial(n)`\n",
    "\n",
    "<br>\n"
   ]
  },
  {
   "cell_type": "markdown",
   "metadata": {
    "deletable": false,
    "editable": false,
    "nbgrader": {
     "cell_type": "markdown",
     "checksum": "659a504f23c9f79d8eeb66127c9c6907",
     "grade": false,
     "grade_id": "cell-ff4ef92dbc0a6172",
     "locked": true,
     "schema_version": 3,
     "solution": false,
     "task": false
    }
   },
   "source": [
    "### Question 1\n",
    "\n",
    "\n",
    "(Recall that a regular deck of 52 cards consists of 13 kinds/denominations, each having 4 suits: <font color=\"red\">&hearts;, &diams;</font>, &clubs; &spades;.)\n",
    "\n",
    "Suppose you take 3 cards from a regular deck of cards, one card at a time, without replacement (i.e. without putting any card back). \n",
    "\n",
    "\n",
    "#### Part a)\n",
    "\n",
    "What is the probability that the first, the second and the third card drawn are a Queen, a King and an Ace, respectively (i.e. in that order)? Do NOT round your answer.\n",
    "\n",
    "\n",
    "Write your answer as\n",
    "\n",
    "`ans = <some expression>`\n",
    "\n",
    "For example, if you think the answer is `1/36` you should create variable `ans` as\n",
    "\n",
    "`ans = 1/36`\n",
    "\n",
    "**IMPORTANT:** Just typing `1/36`, or `answer = 1/36` is not acceptable. Also, do NOT put dot at the end (this is a python code, not a sentence in English). Your answer will be graded automatically, and the test code expects you to create a Python variable called `ans`, and the code will test the value of `ans`.\n",
    "\n",
    "\n",
    "<br>\n"
   ]
  },
  {
   "cell_type": "code",
   "execution_count": 3,
   "metadata": {
    "deletable": false,
    "nbgrader": {
     "cell_type": "code",
     "checksum": "54101a0e1efd58467d57819c3d1f4b3f",
     "grade": false,
     "grade_id": "cell-f6023e5dd46727b2",
     "locked": false,
     "schema_version": 3,
     "solution": true,
     "task": false
    }
   },
   "outputs": [],
   "source": [
    "\n",
    "ans = (4/52) * (4/51) * (4/50)\n"
   ]
  },
  {
   "cell_type": "code",
   "execution_count": 4,
   "metadata": {
    "deletable": false,
    "editable": false,
    "nbgrader": {
     "cell_type": "code",
     "checksum": "f64647016730e96411991fdb96de7d05",
     "grade": true,
     "grade_id": "cell-66b87fb61afca9a5",
     "locked": true,
     "points": 1,
     "schema_version": 3,
     "solution": false,
     "task": false
    }
   },
   "outputs": [],
   "source": [
    "\"\"\"Check whether the answer is numeric and from the interval [0,1] - since it's a probability\"\"\"\n",
    "\n",
    "assert isinstance(ans,float)\n",
    "assert (0 <= ans) & (ans <= 1)  , \"Sorry, the answer should be a probability, which means a number from [0,1]\"\n"
   ]
  },
  {
   "cell_type": "code",
   "execution_count": 5,
   "metadata": {
    "deletable": false,
    "editable": false,
    "nbgrader": {
     "cell_type": "code",
     "checksum": "c65d2a28203786ebd09686ea9821fef9",
     "grade": true,
     "grade_id": "cell-83c5e9bb8f65e697",
     "locked": true,
     "points": 1,
     "schema_version": 3,
     "solution": false,
     "task": false
    }
   },
   "outputs": [],
   "source": [
    "\"\"\"check whether the 6th and 7th decimal digits are 26\"\"\"\n",
    "\n",
    "assert np.mod(int(np.floor(ans * 10**7)), 100) == 26\n"
   ]
  },
  {
   "cell_type": "code",
   "execution_count": 6,
   "metadata": {
    "deletable": false,
    "editable": false,
    "nbgrader": {
     "cell_type": "code",
     "checksum": "658745009315d5651daec49495d7c5b7",
     "grade": true,
     "grade_id": "cell-bff80c5cfb3c2b80",
     "locked": true,
     "points": 2,
     "schema_version": 3,
     "solution": false,
     "task": false
    }
   },
   "outputs": [
    {
     "data": {
      "text/plain": [
       "'Check whether the answer is correct (hidden test)'"
      ]
     },
     "execution_count": 6,
     "metadata": {},
     "output_type": "execute_result"
    }
   ],
   "source": [
    "\"\"\"Check whether the answer is correct (hidden test)\"\"\"\n",
    "\n"
   ]
  },
  {
   "cell_type": "markdown",
   "metadata": {
    "deletable": false,
    "editable": false,
    "nbgrader": {
     "cell_type": "markdown",
     "checksum": "9cd2a3766f835aea296735873d388cfb",
     "grade": false,
     "grade_id": "cell-d7675bc4182163ac",
     "locked": true,
     "schema_version": 3,
     "solution": false,
     "task": false
    }
   },
   "source": [
    "#### Part b)\n",
    "\n",
    "What is the probability that the first, the second and the third card drawn are Queen, Queen and Ace, in that order? Do NOT round your answer.\n",
    "\n",
    "Write your answer as \n",
    "\n",
    "`ans = <some expression>`"
   ]
  },
  {
   "cell_type": "code",
   "execution_count": 7,
   "metadata": {
    "deletable": false,
    "nbgrader": {
     "cell_type": "code",
     "checksum": "78516f9131fdb626e2a00580a23ffd89",
     "grade": false,
     "grade_id": "cell-47281b4aeac25572",
     "locked": false,
     "schema_version": 3,
     "solution": true,
     "task": false
    }
   },
   "outputs": [],
   "source": [
    "\n",
    "ans = (4/52) * (3/51) * (4/50)\n"
   ]
  },
  {
   "cell_type": "code",
   "execution_count": 8,
   "metadata": {
    "deletable": false,
    "editable": false,
    "nbgrader": {
     "cell_type": "code",
     "checksum": "da355ba96a19d85e562ac6dbf7076b16",
     "grade": true,
     "grade_id": "cell-e56164e03577f41f",
     "locked": true,
     "points": 1,
     "schema_version": 3,
     "solution": false,
     "task": false
    }
   },
   "outputs": [],
   "source": [
    "\"\"\"Check whether the answer is numeric and from the interval [0,1] - since it's a probability\"\"\"\n",
    "\n",
    "assert isinstance(ans,float)\n",
    "assert (0 <= ans) & (ans <= 1)  , \"Sorry, the answer should be a probability, which means a number from [0,1]\"\n"
   ]
  },
  {
   "cell_type": "code",
   "execution_count": 9,
   "metadata": {
    "deletable": false,
    "editable": false,
    "nbgrader": {
     "cell_type": "code",
     "checksum": "2a0d69b9767ac80c4e44eb47f87fb5d8",
     "grade": true,
     "grade_id": "cell-690cabf70d789b4a",
     "locked": true,
     "points": 1,
     "schema_version": 3,
     "solution": false,
     "task": false
    }
   },
   "outputs": [],
   "source": [
    "\"\"\"check whether the 6th and 7th decimal digits are 19\"\"\"\n",
    "\n",
    "assert np.mod(int(np.floor(ans * 10**7)), 100) == 19\n",
    "\n"
   ]
  },
  {
   "cell_type": "code",
   "execution_count": 10,
   "metadata": {
    "deletable": false,
    "editable": false,
    "nbgrader": {
     "cell_type": "code",
     "checksum": "ed8048590e71728f994f00ea9fb3bf35",
     "grade": true,
     "grade_id": "cell-02388986b9763bd5",
     "locked": true,
     "points": 2,
     "schema_version": 3,
     "solution": false,
     "task": false
    }
   },
   "outputs": [
    {
     "data": {
      "text/plain": [
       "'Check whether the answer is correct (hidden test)'"
      ]
     },
     "execution_count": 10,
     "metadata": {},
     "output_type": "execute_result"
    }
   ],
   "source": [
    "\"\"\"Check whether the answer is correct (hidden test)\"\"\"\n",
    "\n"
   ]
  },
  {
   "cell_type": "markdown",
   "metadata": {
    "deletable": false,
    "editable": false,
    "nbgrader": {
     "cell_type": "markdown",
     "checksum": "021abdce55466c264fd958588df25b36",
     "grade": false,
     "grade_id": "cell-5ec07d91ba0b46ce",
     "locked": true,
     "schema_version": 3,
     "solution": false,
     "task": false
    }
   },
   "source": [
    "### Question 2\n",
    "\n",
    "Consider two boxes, one containing 3 blue and 2 red marbles, the other contains 3 blue and 5 red marbles. A box is selected at random, and a marble is drawn from it at random.\n",
    "\n",
    "\n",
    "#### Part a)\n",
    "\n",
    "What is the probability that the selected marble is blue? Do NOT round your answer.\n",
    "\n",
    "<br>\n",
    "\n",
    "Create a variable `pB` that stores the value of this probability. That is, write your answer as\n",
    "\n",
    "`pB = <some expression>`\n",
    "\n",
    "<br>\n"
   ]
  },
  {
   "cell_type": "code",
   "execution_count": 11,
   "metadata": {
    "deletable": false,
    "nbgrader": {
     "cell_type": "code",
     "checksum": "57a033bb627d9125a0dcf8959ec3ae9a",
     "grade": false,
     "grade_id": "cell-51b7dd2c4839fb7d",
     "locked": false,
     "schema_version": 3,
     "solution": true,
     "task": false
    }
   },
   "outputs": [],
   "source": [
    "\n",
    "pB = ((3/5)*(1/2)) + ((3/8)*(1/2))\n"
   ]
  },
  {
   "cell_type": "code",
   "execution_count": 12,
   "metadata": {
    "deletable": false,
    "editable": false,
    "nbgrader": {
     "cell_type": "code",
     "checksum": "b5d500f757ca284fc26b3f7cd711847c",
     "grade": true,
     "grade_id": "cell-dd7567e4b92a7299",
     "locked": true,
     "points": 1,
     "schema_version": 3,
     "solution": false,
     "task": false
    }
   },
   "outputs": [],
   "source": [
    "\"\"\"Check whether the answer is numeric and from the interval [0,1] - since it's a probability\"\"\"\n",
    "\n",
    "assert isinstance(pB,float)\n",
    "assert (0 <= pB) & (pB <= 1)  , \"Sorry, the answer should be a probability, which means a number from [0,1]\"\n"
   ]
  },
  {
   "cell_type": "code",
   "execution_count": 13,
   "metadata": {
    "deletable": false,
    "editable": false,
    "nbgrader": {
     "cell_type": "code",
     "checksum": "dd7a283ee4039f69079b1e0776d567fa",
     "grade": true,
     "grade_id": "cell-5ba37b4795cab141",
     "locked": true,
     "points": 3,
     "schema_version": 3,
     "solution": false,
     "task": false
    }
   },
   "outputs": [
    {
     "data": {
      "text/plain": [
       "'Check whether the answer is correct (hidden test)'"
      ]
     },
     "execution_count": 13,
     "metadata": {},
     "output_type": "execute_result"
    }
   ],
   "source": [
    "\"\"\"Check whether the answer is correct (hidden test)\"\"\"\n",
    "\n"
   ]
  },
  {
   "cell_type": "markdown",
   "metadata": {
    "deletable": false,
    "editable": false,
    "nbgrader": {
     "cell_type": "markdown",
     "checksum": "3c7e77de732a37029bda87d5051f08be",
     "grade": false,
     "grade_id": "cell-ad48519f4f6d4f33",
     "locked": true,
     "schema_version": 3,
     "solution": false,
     "task": false
    }
   },
   "source": [
    "#### Part b)\n",
    "\n",
    "If the chosen marble is blue, what is the probability that it was taken from the first box? Do NOT round your answer.\n",
    "\n",
    "Create a variable `pFgivenB` which is equal to the desired probability.\n",
    "\n",
    "`pFgivenB = <some expression>`\n"
   ]
  },
  {
   "cell_type": "code",
   "execution_count": 14,
   "metadata": {
    "deletable": false,
    "nbgrader": {
     "cell_type": "code",
     "checksum": "b2d73bb5718b8cb5f31922dc8132daf9",
     "grade": false,
     "grade_id": "cell-d84b5d016b3c1a43",
     "locked": false,
     "schema_version": 3,
     "solution": true,
     "task": false
    }
   },
   "outputs": [],
   "source": [
    "\n",
    "pFgivenB = ((3/5)*(1/2))/pB\n"
   ]
  },
  {
   "cell_type": "code",
   "execution_count": 15,
   "metadata": {
    "deletable": false,
    "editable": false,
    "nbgrader": {
     "cell_type": "code",
     "checksum": "58eb49df38bd2ebab2dc462f560edd6e",
     "grade": true,
     "grade_id": "cell-96d4707c591ce107",
     "locked": true,
     "points": 1,
     "schema_version": 3,
     "solution": false,
     "task": false
    }
   },
   "outputs": [],
   "source": [
    "\"\"\"Check whether the answer is numeric and from the interval [0,1] - since it's a probability\"\"\"\n",
    "\n",
    "assert isinstance(pFgivenB,float)\n",
    "assert (0 <= pFgivenB) & (pFgivenB <= 1)  , \"Sorry, the answer should be a probability, which means a number from [0,1]\"\n"
   ]
  },
  {
   "cell_type": "code",
   "execution_count": 16,
   "metadata": {
    "deletable": false,
    "editable": false,
    "nbgrader": {
     "cell_type": "code",
     "checksum": "50786837108621fe8d0341743629a1c7",
     "grade": true,
     "grade_id": "cell-09887c75fd5f4e23",
     "locked": true,
     "points": 3,
     "schema_version": 3,
     "solution": false,
     "task": false
    }
   },
   "outputs": [
    {
     "data": {
      "text/plain": [
       "'Check whether the answer is correct (hidden test)'"
      ]
     },
     "execution_count": 16,
     "metadata": {},
     "output_type": "execute_result"
    }
   ],
   "source": [
    "\"\"\"Check whether the answer is correct (hidden test)\"\"\"\n",
    "\n"
   ]
  },
  {
   "cell_type": "markdown",
   "metadata": {
    "deletable": false,
    "editable": false,
    "nbgrader": {
     "cell_type": "markdown",
     "checksum": "2ec092fa00c6f864f0d5321441bbefd9",
     "grade": false,
     "grade_id": "cell-9f48ce2a001123e5",
     "locked": true,
     "schema_version": 3,
     "solution": false,
     "task": false
    }
   },
   "source": [
    "### Question 3\n",
    "\n",
    "A blood test indicates the presence of a particular disease 97% of the time when the disease is actually present. The same test indicates the presence of the disease 1.4% of the time when the disease is not present (false positive). Two percent of the population actually has the disease. If a person gets tested and the test turns positive (suggestion the disease), what is the probability that the person does have the disease? Do NOT round your answer. \n",
    "<br>\n",
    "\n",
    "Write your answer as\n",
    "\n",
    "`ans = <some expression>`\n",
    "\n",
    "<br>\n"
   ]
  },
  {
   "cell_type": "code",
   "execution_count": 17,
   "metadata": {
    "deletable": false,
    "nbgrader": {
     "cell_type": "code",
     "checksum": "13229da9e4c9991ffd716c512ad9647f",
     "grade": false,
     "grade_id": "cell-81782da06f5039bd",
     "locked": false,
     "schema_version": 3,
     "solution": true,
     "task": false
    }
   },
   "outputs": [],
   "source": [
    "\n",
    "ans = ((.97)*(.02))/(((.97)*(.02))+((.014)*(.98)))\n"
   ]
  },
  {
   "cell_type": "code",
   "execution_count": 18,
   "metadata": {
    "deletable": false,
    "editable": false,
    "nbgrader": {
     "cell_type": "code",
     "checksum": "ef95549e07534a7e0398f7c69a7b7837",
     "grade": true,
     "grade_id": "cell-40ec419bf1c4739c",
     "locked": true,
     "points": 1,
     "schema_version": 3,
     "solution": false,
     "task": false
    }
   },
   "outputs": [],
   "source": [
    "\"\"\"Check whether the answer is numeric and from the interval [0,1] - since it's a probability\"\"\"\n",
    "\n",
    "assert isinstance(ans,float)\n",
    "assert (0 <= ans) & (ans <= 1)  , \"Sorry, the answer should be a probability, which means a number from [0,1]\"\n"
   ]
  },
  {
   "cell_type": "code",
   "execution_count": 19,
   "metadata": {
    "deletable": false,
    "editable": false,
    "nbgrader": {
     "cell_type": "code",
     "checksum": "3a4bdce377c808ea40964528cfb44be5",
     "grade": true,
     "grade_id": "cell-4eb0da544a033012",
     "locked": true,
     "points": 1,
     "schema_version": 3,
     "solution": false,
     "task": false
    }
   },
   "outputs": [],
   "source": [
    "\"\"\"Check whether the 6th and 7th decimal digits of the answer are 87\"\"\"\n",
    "\n",
    "assert np.mod(int(np.floor(ans * 10**7)), 100) == 87"
   ]
  },
  {
   "cell_type": "code",
   "execution_count": 20,
   "metadata": {
    "deletable": false,
    "editable": false,
    "nbgrader": {
     "cell_type": "code",
     "checksum": "3466c68ae661e2d739e4f2a1ee6dcc4a",
     "grade": true,
     "grade_id": "cell-fd92e4accd3c9d4e",
     "locked": true,
     "points": 6,
     "schema_version": 3,
     "solution": false,
     "task": false
    }
   },
   "outputs": [
    {
     "data": {
      "text/plain": [
       "'Check whether the answer is correct (hidden test)'"
      ]
     },
     "execution_count": 20,
     "metadata": {},
     "output_type": "execute_result"
    }
   ],
   "source": [
    "\"\"\"Check whether the answer is correct (hidden test)\"\"\"\n",
    "\n"
   ]
  },
  {
   "cell_type": "markdown",
   "metadata": {
    "deletable": false,
    "editable": false,
    "nbgrader": {
     "cell_type": "markdown",
     "checksum": "18a4e7f93871bbdcb6840c78fc1f7af9",
     "grade": false,
     "grade_id": "cell-69ea38d4806fbac8",
     "locked": true,
     "schema_version": 3,
     "solution": false,
     "task": false
    }
   },
   "source": [
    "### Question 4\n",
    "\n",
    "In a certain study a drug is found to be efficient in 67% of the people who were sick and took the drug. There are 12% of people in the study who reported minor side effects of taking the drug (soreness, headache or nausea). Also, of all the sick people for whom the drug was efficient, 8% of them had the minor side effects. \n",
    "<br>\n",
    "\n",
    "#### Part a)\n",
    "\n",
    "Based on this study, what is the probability that a sick person who takes the drug will both quickly recover (i.e. the drug will be efficient on them) and will have the minor side effects? Do NOT round your answer.\n",
    "\n",
    "Store your answer as a variable `pEandS` (E - efficient, S - side effect). So, write the answer as\n",
    "\n",
    "`pEandS = <some expression>`\n",
    "\n",
    "<br>\n",
    "\n"
   ]
  },
  {
   "cell_type": "code",
   "execution_count": 21,
   "metadata": {
    "deletable": false,
    "nbgrader": {
     "cell_type": "code",
     "checksum": "23621ef85f567061a9c926f7e68cefaa",
     "grade": false,
     "grade_id": "cell-767bfd46dad418e0",
     "locked": false,
     "schema_version": 3,
     "solution": true,
     "task": false
    }
   },
   "outputs": [],
   "source": [
    "\n",
    "pEandS = (.67)*(.08) \n"
   ]
  },
  {
   "cell_type": "code",
   "execution_count": 22,
   "metadata": {
    "deletable": false,
    "editable": false,
    "nbgrader": {
     "cell_type": "code",
     "checksum": "5af1def5cd192e0cdfc09fa2861f48a1",
     "grade": true,
     "grade_id": "cell-30cc2f0253090d26",
     "locked": true,
     "points": 1,
     "schema_version": 3,
     "solution": false,
     "task": false
    }
   },
   "outputs": [],
   "source": [
    "\"\"\"Check whether the answer is numeric and from the interval [0,1] - since it's a probability\"\"\"\n",
    "\n",
    "assert isinstance(pEandS,float)\n",
    "assert (0 <= pEandS) & (pEandS <= 1)  , \"Sorry, the answer should be a probability, which means a number from [0,1]\"\n"
   ]
  },
  {
   "cell_type": "code",
   "execution_count": 23,
   "metadata": {
    "deletable": false,
    "editable": false,
    "nbgrader": {
     "cell_type": "code",
     "checksum": "5bef5a14844127fe1b4f0e49fc304038",
     "grade": true,
     "grade_id": "cell-012f5d7c9064e9ef",
     "locked": true,
     "points": 1,
     "schema_version": 3,
     "solution": false,
     "task": false
    }
   },
   "outputs": [],
   "source": [
    "\"\"\"Check whether the 3rd decimal digit is 3\"\"\"\n",
    "\n",
    "assert np.mod(int(np.floor(pEandS * 10**3)), 10) == 3  , \"Sorry, wrong answer\""
   ]
  },
  {
   "cell_type": "code",
   "execution_count": 24,
   "metadata": {
    "deletable": false,
    "editable": false,
    "nbgrader": {
     "cell_type": "code",
     "checksum": "5c58d0cc7a50295777974a848de4168e",
     "grade": true,
     "grade_id": "cell-2fe88bfa597b3915",
     "locked": true,
     "points": 3,
     "schema_version": 3,
     "solution": false,
     "task": false
    }
   },
   "outputs": [
    {
     "data": {
      "text/plain": [
       "'Check whether the answer is correct (hidden test)'"
      ]
     },
     "execution_count": 24,
     "metadata": {},
     "output_type": "execute_result"
    }
   ],
   "source": [
    "\"\"\"Check whether the answer is correct (hidden test)\"\"\"\n",
    "\n"
   ]
  },
  {
   "cell_type": "markdown",
   "metadata": {
    "deletable": false,
    "editable": false,
    "nbgrader": {
     "cell_type": "markdown",
     "checksum": "d97462fc1f5674f12d60f0b0962d091f",
     "grade": false,
     "grade_id": "cell-49fe7543d620424e",
     "locked": true,
     "schema_version": 3,
     "solution": false,
     "task": false
    }
   },
   "source": [
    "#### Part b)\n",
    "\n",
    "Suppose a sick person takes the drug. If they experience a side effect, what is the probability the drug will be efficient on that person, i.e. the patient will quickly recover? Do NOT round your answer.\n",
    "\n",
    "Write your answer as \n",
    "\n",
    "`ans = <some expression>`"
   ]
  },
  {
   "cell_type": "code",
   "execution_count": 25,
   "metadata": {
    "deletable": false,
    "nbgrader": {
     "cell_type": "code",
     "checksum": "9fe2a3b9d2f5a171bf9f8c012d22abd8",
     "grade": false,
     "grade_id": "cell-a1893f225dddbbb6",
     "locked": false,
     "schema_version": 3,
     "solution": true,
     "task": false
    }
   },
   "outputs": [],
   "source": [
    "\n",
    "ans = pEandS / .12\n"
   ]
  },
  {
   "cell_type": "code",
   "execution_count": 26,
   "metadata": {
    "deletable": false,
    "editable": false,
    "nbgrader": {
     "cell_type": "code",
     "checksum": "78bcedca154518ee020ff30ffbbb5cda",
     "grade": true,
     "grade_id": "cell-b9c1035eb0eb6b4b",
     "locked": true,
     "points": 1,
     "schema_version": 3,
     "solution": false,
     "task": false
    }
   },
   "outputs": [],
   "source": [
    "\"\"\"Check whether the answer is numeric and from the interval [0,1] - since it's a probability\"\"\"\n",
    "\n",
    "assert isinstance(ans,float)\n",
    "assert (0 <= ans) & (ans <= 1)  , \"Sorry, the answer should be a probability, which means a number from [0,1]\"\n"
   ]
  },
  {
   "cell_type": "code",
   "execution_count": 27,
   "metadata": {
    "deletable": false,
    "editable": false,
    "nbgrader": {
     "cell_type": "code",
     "checksum": "6405aba53053a738ef098d15bbd236bc",
     "grade": true,
     "grade_id": "cell-b20a6137cd51a0e3",
     "locked": true,
     "points": 3,
     "schema_version": 3,
     "solution": false,
     "task": false
    }
   },
   "outputs": [
    {
     "data": {
      "text/plain": [
       "'Check whether the answer is correct (hidden test)'"
      ]
     },
     "execution_count": 27,
     "metadata": {},
     "output_type": "execute_result"
    }
   ],
   "source": [
    "\"\"\"Check whether the answer is correct (hidden test)\"\"\"\n",
    "\n"
   ]
  },
  {
   "cell_type": "markdown",
   "metadata": {
    "deletable": false,
    "editable": false,
    "nbgrader": {
     "cell_type": "markdown",
     "checksum": "40fe1857071a204927b01107bd733e49",
     "grade": false,
     "grade_id": "cell-985de302db35fd14",
     "locked": true,
     "schema_version": 3,
     "solution": false,
     "task": false
    }
   },
   "source": [
    "### Question 5\n",
    "\n",
    "(Recall that a regular deck of 52 cards consists of 13 kinds/denominations, each having 4 suits: <font color=\"red\">&hearts;, &diams;</font>, &clubs; &spades;.)\n",
    "\n",
    "In a poker game, you get 5 cards from a regular deck of 52 cards. \n",
    "\n",
    "What is the probability that you get full house (i.e. three of a kind and two of another kind) if the first two cards you've got were two aces? Do NOT round your answer. You may want to use `scipy.special` subpackage.\n",
    "\n",
    "\n",
    "<br>\n",
    "\n",
    "Write your answer as\n",
    "\n",
    "`ans = <some expression>`\n",
    "\n",
    "<br>\n"
   ]
  },
  {
   "cell_type": "code",
   "execution_count": 28,
   "metadata": {
    "deletable": false,
    "nbgrader": {
     "cell_type": "code",
     "checksum": "e41d8caef5326019b235ec6dd926c06e",
     "grade": false,
     "grade_id": "cell-bbda68dc4b2132bd",
     "locked": false,
     "schema_version": 3,
     "solution": true,
     "task": false
    }
   },
   "outputs": [],
   "source": [
    "# P(full house | first two aces) = P(full house and first two aces) / P(first two aces)\n",
    "# P(full house | first two aces) = P(first two aces | full house)*P(full house) / P(first two aces)\n",
    "\n",
    "ans = (2*((scipy.special.comb(4,2)*scipy.special.comb(12,1)*scipy.special.comb(4,3)) + (scipy.special.comb(4,3)*scipy.special.comb(12,1)*scipy.special.comb(4,2))) / scipy.special.comb(52,5)) / ((scipy.special.comb(4,2)*scipy.special.comb(50,3)) / scipy.special.comb(52,5)) \n"
   ]
  },
  {
   "cell_type": "code",
   "execution_count": 29,
   "metadata": {
    "deletable": false,
    "editable": false,
    "nbgrader": {
     "cell_type": "code",
     "checksum": "18aaab19988c25358b5c24feeab1b045",
     "grade": true,
     "grade_id": "cell-58245af72aab38ed",
     "locked": true,
     "points": 1,
     "schema_version": 3,
     "solution": false,
     "task": false
    }
   },
   "outputs": [],
   "source": [
    "\"\"\"Check whether the answer is numeric and from the interval [0,1] - since it's a probability\"\"\"\n",
    "\n",
    "assert isinstance(ans,float)\n",
    "assert (0 <= ans) & (ans <= 1)  , \"Sorry, the answer should be a probability, which means a number from [0,1]\"\n"
   ]
  },
  {
   "cell_type": "code",
   "execution_count": 30,
   "metadata": {
    "deletable": false,
    "editable": false,
    "nbgrader": {
     "cell_type": "code",
     "checksum": "ac33b40616d4dfa66134ccd877e8ba49",
     "grade": true,
     "grade_id": "cell-f6800c7e4aea1822",
     "locked": true,
     "points": 1,
     "schema_version": 3,
     "solution": false,
     "task": false
    }
   },
   "outputs": [],
   "source": [
    "\"\"\"Check whether the 6th and 7th decimal digits of the answer are 59\"\"\"\n",
    "\n",
    "assert np.mod(int(np.floor(ans * 10**7)), 100) == 59"
   ]
  },
  {
   "cell_type": "code",
   "execution_count": 31,
   "metadata": {
    "deletable": false,
    "editable": false,
    "nbgrader": {
     "cell_type": "code",
     "checksum": "74134753d7e4d0cc4ba21cd48893a8a5",
     "grade": true,
     "grade_id": "cell-0445ee461dd2e396",
     "locked": true,
     "points": 6,
     "schema_version": 3,
     "solution": false,
     "task": false
    }
   },
   "outputs": [
    {
     "data": {
      "text/plain": [
       "'Check whether the answer is correct (hidden test)'"
      ]
     },
     "execution_count": 31,
     "metadata": {},
     "output_type": "execute_result"
    }
   ],
   "source": [
    "\"\"\"Check whether the answer is correct (hidden test)\"\"\"\n",
    "\n"
   ]
  },
  {
   "cell_type": "markdown",
   "metadata": {
    "deletable": false,
    "editable": false,
    "nbgrader": {
     "cell_type": "markdown",
     "checksum": "aacc4387257d0ec02dd17cdc859af600",
     "grade": false,
     "grade_id": "cell-9404e0288ab16846",
     "locked": true,
     "schema_version": 3,
     "solution": false,
     "task": false
    }
   },
   "source": [
    "### Question 6\n",
    "\n",
    "Members of a consulting firm rent cars from 3 rental agencies: 60% from agency $A_1$, 30% from agency $A_2$, and 10% from $A_3$. Suppose 9% of the cars from agency $A_1$ need oil change, 20% of cars from $A_2$ need oil change and 6% of cars from $A_3$ need an oil change.\n",
    "\n",
    "#### Part a)\n",
    "\n",
    "What is the probability that a rental car delivered to the firm will need an oil change? Do NOT round your answer.\n",
    "\n",
    "<br>\n",
    "\n",
    "As an answer to this question, create a variable `pC` whose value is the desired probability that the delivered car needs an oil change. So, your answer should be of the form\n",
    "\n",
    "`pC = <some expression>`\n",
    "\n",
    "<br>\n",
    "\n",
    "\n"
   ]
  },
  {
   "cell_type": "code",
   "execution_count": 32,
   "metadata": {
    "deletable": false,
    "nbgrader": {
     "cell_type": "code",
     "checksum": "c4ea5700809084f6be33988120009654",
     "grade": false,
     "grade_id": "cell-a10b3d248b7ec37b",
     "locked": false,
     "schema_version": 3,
     "solution": true,
     "task": false
    }
   },
   "outputs": [],
   "source": [
    "\n",
    "pC = (.09)*(.60) + (.20)*(.30) + (.06)*(.10)\n"
   ]
  },
  {
   "cell_type": "code",
   "execution_count": 33,
   "metadata": {
    "deletable": false,
    "editable": false,
    "nbgrader": {
     "cell_type": "code",
     "checksum": "aaf670a26790a2dd3c17ff55811e46b2",
     "grade": true,
     "grade_id": "cell-878482512d275b36",
     "locked": true,
     "points": 1,
     "schema_version": 3,
     "solution": false,
     "task": false
    }
   },
   "outputs": [],
   "source": [
    "\"\"\"Check whether the answer is numeric and from the interval [0,1] - since it's a probability\"\"\"\n",
    "\n",
    "assert isinstance(pC,float)\n",
    "assert (0 <= pC) & (pC <= 1)  , \"Sorry, the answer should be a probability, which means a number from [0,1]\"\n"
   ]
  },
  {
   "cell_type": "code",
   "execution_count": 34,
   "metadata": {
    "deletable": false,
    "editable": false,
    "nbgrader": {
     "cell_type": "code",
     "checksum": "827093e4a4ce7d62c7add0736ad463d1",
     "grade": true,
     "grade_id": "cell-02b027b15987404f",
     "locked": true,
     "points": 3,
     "schema_version": 3,
     "solution": false,
     "task": false
    }
   },
   "outputs": [
    {
     "data": {
      "text/plain": [
       "'Check whether the answer is correct (hidden test)'"
      ]
     },
     "execution_count": 34,
     "metadata": {},
     "output_type": "execute_result"
    }
   ],
   "source": [
    "\"\"\"Check whether the answer is correct (hidden test)\"\"\"\n",
    "\n"
   ]
  },
  {
   "cell_type": "markdown",
   "metadata": {
    "deletable": false,
    "editable": false,
    "nbgrader": {
     "cell_type": "markdown",
     "checksum": "3752e78b0cea5e4bdc5bd0908f3e8b6f",
     "grade": false,
     "grade_id": "cell-be1680c0e01b6a46",
     "locked": true,
     "schema_version": 3,
     "solution": false,
     "task": false
    }
   },
   "source": [
    "#### Part b)\n",
    "\n",
    "If a car delivered to the consulting firm needs oil change, what is the probability that it came from rental agency $A_2$? Do NOT round your answer.\n",
    "\n",
    "Write your answeer as a variable `ans`, i.e.\n",
    "\n",
    "`ans = <some expression>`\n"
   ]
  },
  {
   "cell_type": "code",
   "execution_count": 35,
   "metadata": {
    "deletable": false,
    "nbgrader": {
     "cell_type": "code",
     "checksum": "bd8e935c8b0346d63275802f9f1bba49",
     "grade": false,
     "grade_id": "cell-7f94ea968a38fe73",
     "locked": false,
     "schema_version": 3,
     "solution": true,
     "task": false
    }
   },
   "outputs": [],
   "source": [
    "\n",
    "ans = ((.20)*(.30))/pC\n"
   ]
  },
  {
   "cell_type": "code",
   "execution_count": 36,
   "metadata": {
    "deletable": false,
    "editable": false,
    "nbgrader": {
     "cell_type": "code",
     "checksum": "ed59a599407b4efef4398cd9090208dd",
     "grade": true,
     "grade_id": "cell-868e5e1697c1f48b",
     "locked": true,
     "points": 1,
     "schema_version": 3,
     "solution": false,
     "task": false
    }
   },
   "outputs": [],
   "source": [
    "\"\"\"Check whether the answer is numeric and from the interval [0,1] - since it's a probability\"\"\"\n",
    "\n",
    "assert isinstance(ans,float)\n",
    "assert (0 <= ans) & (ans <= 1)  , \"Sorry, the answer should be a probability, which means a number from [0,1]\"\n"
   ]
  },
  {
   "cell_type": "code",
   "execution_count": 37,
   "metadata": {
    "deletable": false,
    "editable": false,
    "nbgrader": {
     "cell_type": "code",
     "checksum": "ac0a35e13caea9d306180308b50c6c0a",
     "grade": true,
     "grade_id": "cell-25951e4076ac2771",
     "locked": true,
     "points": 4,
     "schema_version": 3,
     "solution": false,
     "task": false
    }
   },
   "outputs": [
    {
     "data": {
      "text/plain": [
       "'Check whether the answer is correct (hidden test)'"
      ]
     },
     "execution_count": 37,
     "metadata": {},
     "output_type": "execute_result"
    }
   ],
   "source": [
    "\"\"\"Check whether the answer is correct (hidden test)\"\"\"\n",
    "\n"
   ]
  }
 ],
 "metadata": {
  "kernelspec": {
   "display_name": "Python 3",
   "language": "python",
   "name": "python3"
  },
  "language_info": {
   "codemirror_mode": {
    "name": "ipython",
    "version": 3
   },
   "file_extension": ".py",
   "mimetype": "text/x-python",
   "name": "python",
   "nbconvert_exporter": "python",
   "pygments_lexer": "ipython3",
   "version": "3.8.10"
  }
 },
 "nbformat": 4,
 "nbformat_minor": 4
}
