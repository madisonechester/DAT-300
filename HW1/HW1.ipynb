{
 "cells": [
  {
   "cell_type": "markdown",
   "metadata": {},
   "source": [
    "Before you turn this problem in, make sure everything runs as expected. First, **restart the kernel** (in the menubar, select Kernel$\\rightarrow$Restart) and then **run all cells** (in the menubar, select Cell$\\rightarrow$Run All).\n",
    "\n",
    "Make sure you fill in any place that says `YOUR CODE HERE` or \"YOUR ANSWER HERE\", as well as your name and collaborators below:"
   ]
  },
  {
   "cell_type": "code",
   "execution_count": 1,
   "metadata": {},
   "outputs": [],
   "source": [
    "NAME = \"Madison Chester\"\n",
    "COLLABORATORS = \"\""
   ]
  },
  {
   "cell_type": "markdown",
   "metadata": {},
   "source": [
    "---"
   ]
  },
  {
   "cell_type": "code",
   "execution_count": 2,
   "metadata": {
    "deletable": false,
    "editable": false,
    "nbgrader": {
     "cell_type": "code",
     "checksum": "20e171125e098765d399a35fea663f49",
     "grade": false,
     "grade_id": "cell-4c42e2a8001d57f1",
     "locked": true,
     "schema_version": 3,
     "solution": false,
     "task": false
    }
   },
   "outputs": [],
   "source": [
    "##Run this cell first!!! This imports packages used for evaluating test cells\n",
    "import numpy as np\n",
    "import types"
   ]
  },
  {
   "cell_type": "markdown",
   "metadata": {
    "deletable": false,
    "editable": false,
    "nbgrader": {
     "cell_type": "markdown",
     "checksum": "bfae45d4e6de82deeed4b5f9d5463a39",
     "grade": false,
     "grade_id": "cell-25af32daeac6c0d5",
     "locked": true,
     "schema_version": 3,
     "solution": false,
     "task": false
    }
   },
   "source": [
    "### Question 1.\n",
    "\n",
    "Which of the following best describes a function whose graph is given below?\n",
    "Note: The image is also a hyperlink and you can click on it to access an interactive graph.\n",
    "\n",
    "<a href=\"image1.html\"><img style=\"border:5px double black;\" src=\"paraboloid1.png\" width=\"300\" height=\"200\"></a>\n",
    "\n",
    "1. $f(x,y) = \\sin(x^2+y^2)$\n",
    "\n",
    "2. $f(x,y) = \\sin(x^2+3y^2)$\n",
    "\n",
    "3. $f(x,y) = x^2 - y^2$\n",
    "\n",
    "4. $f(x,y) = x^2 - 3y^2$\n",
    "\n",
    "5. $f(x,y) = x^2 + y^2$\n",
    "\n",
    "6. $f(x,y) = x^2 + 3y^2$\n",
    "\n",
    "7. $f(x,y) = {x\\over e^y}$\n",
    "\n",
    "Write your answer as \n",
    "\n",
    "`ans = <some number>`\n",
    "\n",
    "For example, if you think the answer is the 7th of the functions above, your answer should be \n",
    "\n",
    "`ans = 7`\n",
    "\n",
    "**IMPORTANT:** Just typing `7`, or `answer = 7` is not acceptable. Also, do NOT put dot at the end (this is a python code, not a sentence in English). Your answer will be graded automatically, and the test code expects you to create a Python variable called `ans`, and the code will test the value of `ans`. "
   ]
  },
  {
   "cell_type": "code",
   "execution_count": 3,
   "metadata": {
    "deletable": false,
    "nbgrader": {
     "cell_type": "code",
     "checksum": "d7edd18f1a7f311bd7d671bb06e7a755",
     "grade": false,
     "grade_id": "cell-0a17b28f4e682cc8",
     "locked": false,
     "schema_version": 3,
     "solution": true,
     "task": false
    }
   },
   "outputs": [],
   "source": [
    "\n",
    "ans = 6\n"
   ]
  },
  {
   "cell_type": "code",
   "execution_count": 4,
   "metadata": {
    "deletable": false,
    "editable": false,
    "nbgrader": {
     "cell_type": "code",
     "checksum": "5bdc0fd2b23664c150db9b2251713d28",
     "grade": true,
     "grade_id": "cell-5f58d2a04594b549",
     "locked": true,
     "points": 2,
     "schema_version": 3,
     "solution": false,
     "task": false
    }
   },
   "outputs": [],
   "source": [
    "\"\"\"Check whether your answer is an integer b/w 1 and 7\"\"\"\n",
    "\n",
    "assert isinstance(ans,int) , \"Sorry, your variable ans is not an integer.\"\n",
    "assert (1 <= ans) & (ans <= 7) , \"Sorry, your variable ans is not in the range 1-7.\""
   ]
  },
  {
   "cell_type": "code",
   "execution_count": 5,
   "metadata": {
    "deletable": false,
    "editable": false,
    "nbgrader": {
     "cell_type": "code",
     "checksum": "66c1dfe10268cb0121425a3d0262a774",
     "grade": true,
     "grade_id": "cell-f4d035ab0014060a",
     "locked": true,
     "points": 8,
     "schema_version": 3,
     "solution": false,
     "task": false
    }
   },
   "outputs": [
    {
     "data": {
      "text/plain": [
       "'Check whether the answer is correct (hidden test)'"
      ]
     },
     "execution_count": 5,
     "metadata": {},
     "output_type": "execute_result"
    }
   ],
   "source": [
    "\"\"\"Check whether the answer is correct (hidden test)\"\"\"\n"
   ]
  },
  {
   "cell_type": "markdown",
   "metadata": {
    "deletable": false,
    "editable": false,
    "nbgrader": {
     "cell_type": "markdown",
     "checksum": "d5fc49283852b394f033448c9add17f2",
     "grade": false,
     "grade_id": "cell-ea1417b158c9310a",
     "locked": true,
     "schema_version": 3,
     "solution": false,
     "task": false
    }
   },
   "source": [
    "### Question 2\n",
    "\n",
    "Which of the following surfaces represent graphs of fuctions, and which ones don't? \n",
    "\n",
    "This image is also a link, so you can click on it to see interactive graphs. Feel free to rotate each plot. When in doubt, look at the various contour lines - they can help you answering the question. \n",
    "\n",
    "**Important:** <br>\n",
    "\n",
    "- There **no** point $(x,y,z)$ of the surface in Plot 4 for which $x = 0$. <br>\n",
    "\n",
    "- There is **no** point $(x,y,z)$ of the Plot 6 for which $x=y=0$. <br>\n",
    "\n",
    "- Please read carefully the instructions below the image on how to answer so that the autograder gives you credit!\n",
    "\n",
    "\n",
    "<a href=\"six_subplots.html\"><img style=\"border:5px double black;\" src=\"six_subplots_snapshot.png\" width=\"600\" height=\"400\"></a>\n",
    "\n",
    "\n",
    "To answer this question, in the following cell, create a Python list `ans` with string (i.e. character) values \"yes\" or \"no\". For example, if you think all plots are graphs of functions except plot 2, you should create a list with 6 components, all being \"yes\", except the 2nd component, which should be \"no\". That is, you would type:\n",
    "\n",
    "`ans = ['yes', 'no', 'yes', 'yes', 'yes', 'yes']`\n",
    "\n",
    "Of course, this is just an example, it's not the correct answer.\n",
    "\n",
    "You must have a list of **lowercase** yes'es and no's, written in quotes (you can use either pairs of single or pairs of double quotation marks. Note that the plots are enumerated row-wise. \n"
   ]
  },
  {
   "cell_type": "code",
   "execution_count": 6,
   "metadata": {
    "deletable": false,
    "nbgrader": {
     "cell_type": "code",
     "checksum": "f4be5b0d55adec172fb1a0a6ba822241",
     "grade": false,
     "grade_id": "cell-633994cf589e968f",
     "locked": false,
     "schema_version": 3,
     "solution": true,
     "task": false
    }
   },
   "outputs": [],
   "source": [
    "\n",
    "ans = ['no','no','yes','yes','no','yes']\n"
   ]
  },
  {
   "cell_type": "code",
   "execution_count": 7,
   "metadata": {
    "deletable": false,
    "editable": false,
    "nbgrader": {
     "cell_type": "code",
     "checksum": "b11c9bc7c650c414cb8ab3d7f6931a4b",
     "grade": true,
     "grade_id": "cell-6ea46053badf5b57",
     "locked": true,
     "points": 1,
     "schema_version": 3,
     "solution": false,
     "task": false
    }
   },
   "outputs": [],
   "source": [
    "\"\"\"Check that your object ans is a list of strings\"\"\"\n",
    "assert isinstance(ans, list) , \"Sorry, your variable ans is NOT a list.\"\n",
    "assert set([type(x) for x in ans]) == {str} , \"Sorry, all entries of list ans should be strings (i.e. quoted text)\""
   ]
  },
  {
   "cell_type": "code",
   "execution_count": 8,
   "metadata": {
    "deletable": false,
    "editable": false,
    "nbgrader": {
     "cell_type": "code",
     "checksum": "2770c0c1bf64b89388830f3bd8cf5e9b",
     "grade": true,
     "grade_id": "cell-f99221e31baab415",
     "locked": true,
     "points": 1,
     "schema_version": 3,
     "solution": false,
     "task": false
    }
   },
   "outputs": [],
   "source": [
    "\"\"\"Check that your object ans is a list of length 6\"\"\"\n",
    "assert len(ans) == 6 , \"Sorry, your variable ans is NOT of length 6\""
   ]
  },
  {
   "cell_type": "code",
   "execution_count": 9,
   "metadata": {
    "deletable": false,
    "editable": false,
    "nbgrader": {
     "cell_type": "code",
     "checksum": "7162060a4306fa952670b9a580238fc8",
     "grade": true,
     "grade_id": "cell-fa4eac0f60f2b5a5",
     "locked": true,
     "points": 1,
     "schema_version": 3,
     "solution": false,
     "task": false
    }
   },
   "outputs": [],
   "source": [
    "\"\"\"Check that all the components of ans are strings 'yes' or 'no' \"\"\"\n",
    "assert set([ans[i].lower() for i in range(len(ans))]) == {\"yes\",\"no\"} , \"Sorry, only values 'yes' and 'no' are allowed.\""
   ]
  },
  {
   "cell_type": "code",
   "execution_count": 10,
   "metadata": {
    "deletable": false,
    "editable": false,
    "nbgrader": {
     "cell_type": "code",
     "checksum": "0f2522a66f2207928f00bf6eb105ee8e",
     "grade": true,
     "grade_id": "cell-aab080952ff0aa90",
     "locked": true,
     "points": 7,
     "schema_version": 3,
     "solution": false,
     "task": false
    }
   },
   "outputs": [
    {
     "data": {
      "text/plain": [
       "'Check whether the list is correct (hidden test)'"
      ]
     },
     "execution_count": 10,
     "metadata": {},
     "output_type": "execute_result"
    }
   ],
   "source": [
    "\"\"\"Check whether the list is correct (hidden test)\"\"\"\n"
   ]
  },
  {
   "cell_type": "markdown",
   "metadata": {
    "deletable": false,
    "editable": false,
    "nbgrader": {
     "cell_type": "markdown",
     "checksum": "709c725f617caa6e2c8d6d672148c7fa",
     "grade": false,
     "grade_id": "cell-89fa76cb1790a576",
     "locked": true,
     "schema_version": 3,
     "solution": false,
     "task": false
    }
   },
   "source": [
    "### Question 3\n",
    "\n",
    "Find a vector $\\vec{n}$ which is orthogonal to the plane $z = 2x - 5y + 3$. Your vector should be defined as a Python's `tuple` object named `n`. Tuples are objects with syntax just like an ordered $n$-tuple in math. For example, if you think the answer is vector $\\vec{n} = \\langle 1, 2, 3 \\rangle$, you should write \n",
    "\n",
    "`n = (1, 2, 3)` \n",
    "\n",
    "(parentheses make `n` defined as a tuple).\n"
   ]
  },
  {
   "cell_type": "code",
   "execution_count": 11,
   "metadata": {
    "deletable": false,
    "nbgrader": {
     "cell_type": "code",
     "checksum": "2b515be04d2f1577abf04c1352eb38da",
     "grade": false,
     "grade_id": "cell-4fbba72269394f0d",
     "locked": false,
     "schema_version": 3,
     "solution": true,
     "task": false
    }
   },
   "outputs": [],
   "source": [
    "\n",
    "n = (2,-5,-1)\n"
   ]
  },
  {
   "cell_type": "code",
   "execution_count": 12,
   "metadata": {
    "deletable": false,
    "editable": false,
    "nbgrader": {
     "cell_type": "code",
     "checksum": "326563afb013e007654a2df9c8409f5c",
     "grade": true,
     "grade_id": "cell-76d36010f9d44ac6",
     "locked": true,
     "points": 10,
     "schema_version": 3,
     "solution": false,
     "task": false
    }
   },
   "outputs": [
    {
     "data": {
      "text/plain": [
       "'Check whether the answer is correct (hidden test)'"
      ]
     },
     "execution_count": 12,
     "metadata": {},
     "output_type": "execute_result"
    }
   ],
   "source": [
    "\"\"\"Check that the variable n is indeed a tuple\"\"\"\n",
    "assert type(n) == tuple\n",
    "\n",
    "\n",
    "\"\"\"Check whether the answer is correct (hidden test)\"\"\""
   ]
  },
  {
   "cell_type": "markdown",
   "metadata": {
    "deletable": false,
    "editable": false,
    "nbgrader": {
     "cell_type": "markdown",
     "checksum": "fd4551dc5c016d51a9035bb3d389893b",
     "grade": false,
     "grade_id": "cell-439ad25491016cfe",
     "locked": true,
     "schema_version": 3,
     "solution": false,
     "task": false
    }
   },
   "source": [
    "### Question 4\n",
    "\n",
    "Find an equation of the plane that contains point $P=(-2,3,5)$ and is perpendicular to the vector $\\vec{n} = \\langle 3, -4, 2 \\rangle$. Your answer should actually be a Python's lambda expression called `z`, which is of the form\n",
    "\n",
    "`z = lambda x,y: a * x + b * y + c`\n",
    "\n",
    "where you just need to find the appropriate values of `a`, `b` and `c`. For example, if you think the solution is the plane $z = 5x - {4\\over 5}y - 1$, in the answer cell you should write \n",
    "\n",
    "\n",
    "`z = lambda x,y: 5 * x - 4/5 * y - 1`\n",
    "\n",
    "The key word `lambda` creates a so called lambda expression (a.k.a. anonymous function), which is a function with input variables `x` and `y`. "
   ]
  },
  {
   "cell_type": "code",
   "execution_count": 13,
   "metadata": {
    "deletable": false,
    "nbgrader": {
     "cell_type": "code",
     "checksum": "1f783373fd0273fb51893898c52d6038",
     "grade": false,
     "grade_id": "cell-cb90e0ee3aaa5bf7",
     "locked": false,
     "schema_version": 3,
     "solution": true,
     "task": false
    }
   },
   "outputs": [],
   "source": [
    "\n",
    "z = lambda x,y: -3/2*x + 2*y - 4\n"
   ]
  },
  {
   "cell_type": "code",
   "execution_count": 14,
   "metadata": {
    "deletable": false,
    "editable": false,
    "nbgrader": {
     "cell_type": "code",
     "checksum": "6ade7fb5bb914f822000d37e9bae64dc",
     "grade": true,
     "grade_id": "cell-b0f767966423cc05",
     "locked": true,
     "points": 2,
     "schema_version": 3,
     "solution": false,
     "task": false
    }
   },
   "outputs": [],
   "source": [
    "\"\"\"Check whether z is a lambda expression\"\"\"\n",
    "assert isinstance(z,types.LambdaType) , \"Sorry, your object z is NOT a lambda expression.\"\n",
    "\n",
    "\n",
    "\"\"\"Check whether your plane indeed contains the point P\"\"\"\n",
    "assert z(-2,3) == 5 , \"Sorry, the graph of your function does NOT contain the point P.\""
   ]
  },
  {
   "cell_type": "code",
   "execution_count": 15,
   "metadata": {
    "deletable": false,
    "editable": false,
    "nbgrader": {
     "cell_type": "code",
     "checksum": "880a974484a003f6cc902a1b91271125",
     "grade": true,
     "grade_id": "cell-5a7095a38eea96c6",
     "locked": true,
     "points": 8,
     "schema_version": 3,
     "solution": false,
     "task": false
    }
   },
   "outputs": [
    {
     "data": {
      "text/plain": [
       "'Check whether the answer is correct (hidden test)'"
      ]
     },
     "execution_count": 15,
     "metadata": {},
     "output_type": "execute_result"
    }
   ],
   "source": [
    "\"\"\"Check whether the answer is correct (hidden test)\"\"\"\n"
   ]
  },
  {
   "cell_type": "markdown",
   "metadata": {
    "deletable": false,
    "editable": false,
    "nbgrader": {
     "cell_type": "markdown",
     "checksum": "3cb6623bb783ab43635b1edb0e23fa96",
     "grade": false,
     "grade_id": "cell-ae202f65bc77c022",
     "locked": true,
     "schema_version": 3,
     "solution": false,
     "task": false
    }
   },
   "source": [
    "### Question 5\n",
    "\n",
    "What does the set $\\{(x,y,z)\\in\\mathbf{R}^3\\,|\\, x = 2y\\}$ represent in the 3D space $\\mathbf{R}^3$?\n",
    "\n",
    "1. A line through the origin.\n",
    "\n",
    "2. A line parallel to the $xy$-plane.\n",
    "\n",
    "3. A line that does not intersect $z$-axis.\n",
    "\n",
    "4. A plane that does not intersect $z$-axis.\n",
    "\n",
    "5. A plane perpendicular to the $xy$-plane.\n",
    "\n",
    "6. A plane parallel to the $xy$-plane.\n",
    "\n",
    "7. An airplane.\n",
    "\n",
    "\n",
    "To answer this question, create an object `ans` and set it equal to the number that corresponds to the correct answer. For example, if you think the correct answer is 7, then type \n",
    "\n",
    "`ans = 7`\n",
    "\n",
    "Hint: It's not 7. &#128515;"
   ]
  },
  {
   "cell_type": "code",
   "execution_count": 16,
   "metadata": {
    "deletable": false,
    "nbgrader": {
     "cell_type": "code",
     "checksum": "e9b22346d34e9ef2fc17d99a5d8ebc1a",
     "grade": false,
     "grade_id": "cell-b135ef1b089a1f35",
     "locked": false,
     "schema_version": 3,
     "solution": true,
     "task": false
    }
   },
   "outputs": [],
   "source": [
    "\n",
    "ans = 5\n"
   ]
  },
  {
   "cell_type": "code",
   "execution_count": 17,
   "metadata": {
    "deletable": false,
    "editable": false,
    "nbgrader": {
     "cell_type": "code",
     "checksum": "c2a43d630ebd3ffdb6545ff2b6a5d163",
     "grade": true,
     "grade_id": "cell-d2d668d11052a753",
     "locked": true,
     "points": 2,
     "schema_version": 3,
     "solution": false,
     "task": false
    }
   },
   "outputs": [],
   "source": [
    "\"\"\"Check that your answer is an integer\"\"\"\n",
    "assert isinstance(ans, int)\n",
    "\n",
    "\n",
    "\"\"\"Check that your answer is a number b/w 1 and 7\"\"\"\n",
    "assert (1 <= ans) & (ans <= 7)\n"
   ]
  },
  {
   "cell_type": "code",
   "execution_count": 18,
   "metadata": {
    "deletable": false,
    "editable": false,
    "nbgrader": {
     "cell_type": "code",
     "checksum": "7774ba84a3d7ca681ad4fc640adbcc5f",
     "grade": true,
     "grade_id": "cell-22078660b609c0e0",
     "locked": true,
     "points": 8,
     "schema_version": 3,
     "solution": false,
     "task": false
    }
   },
   "outputs": [
    {
     "data": {
      "text/plain": [
       "'Check whether the answer is correct (hidden test)'"
      ]
     },
     "execution_count": 18,
     "metadata": {},
     "output_type": "execute_result"
    }
   ],
   "source": [
    "\"\"\"Check whether the answer is correct (hidden test)\"\"\"\n"
   ]
  },
  {
   "cell_type": "code",
   "execution_count": null,
   "metadata": {},
   "outputs": [],
   "source": []
  }
 ],
 "metadata": {
  "kernelspec": {
   "display_name": "Python 3",
   "language": "python",
   "name": "python3"
  },
  "language_info": {
   "codemirror_mode": {
    "name": "ipython",
    "version": 3
   },
   "file_extension": ".py",
   "mimetype": "text/x-python",
   "name": "python",
   "nbconvert_exporter": "python",
   "pygments_lexer": "ipython3",
   "version": "3.8.10"
  }
 },
 "nbformat": 4,
 "nbformat_minor": 4
}
