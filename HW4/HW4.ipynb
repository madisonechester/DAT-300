{
 "cells": [
  {
   "cell_type": "markdown",
   "metadata": {},
   "source": [
    "Before you turn this problem in, make sure everything runs as expected. First, **restart the kernel** (in the menubar, select Kernel$\\rightarrow$Restart) and then **run all cells** (in the menubar, select Cell$\\rightarrow$Run All).\n",
    "\n",
    "Make sure you fill in any place that says `YOUR CODE HERE` or \"YOUR ANSWER HERE\", as well as your name and collaborators below:"
   ]
  },
  {
   "cell_type": "code",
   "execution_count": 1,
   "metadata": {},
   "outputs": [],
   "source": [
    "NAME = \"Madison Chester\"\n",
    "COLLABORATORS = \"\""
   ]
  },
  {
   "cell_type": "markdown",
   "metadata": {},
   "source": [
    "---"
   ]
  },
  {
   "cell_type": "code",
   "execution_count": 2,
   "metadata": {
    "deletable": false,
    "editable": false,
    "nbgrader": {
     "cell_type": "code",
     "checksum": "d0674212f378d904a3de7e747027a1d8",
     "grade": false,
     "grade_id": "cell-e29a36c4840a2755",
     "locked": true,
     "schema_version": 3,
     "solution": false,
     "task": false
    }
   },
   "outputs": [],
   "source": [
    "##this is used for testing\n",
    "import numpy as np\n",
    "import types\n",
    "from nose.tools import assert_equal, assert_raises\n",
    "import scipy.special\n"
   ]
  },
  {
   "cell_type": "markdown",
   "metadata": {
    "deletable": false,
    "editable": false,
    "nbgrader": {
     "cell_type": "markdown",
     "checksum": "d8d3cceb06a743e5b7f85f65e7b05052",
     "grade": false,
     "grade_id": "cell-5ccdb2a41f9a52c9",
     "locked": true,
     "schema_version": 3,
     "solution": false,
     "task": false
    }
   },
   "source": [
    "### Binomial Coefficient $N\\choose k$ in Python\n",
    "\n",
    "\n",
    "The above cell imports `scipy.special`, which is a subpackage of `scipy` and contains method `comb(N,k)`, This method can be used to compute binomial coefficient ${N \\choose k} = {N\\cdot (N-1)\\cdot \\,.\\,.\\,.\\, \\cdot (N-k+1)\\over k!} = {N!\\over k!\\,(N-k)!}$, i.e. the number of ways of choosing a subset of $k$ objects from a set of $N$ objects.\n",
    "\n",
    "For example, if you need number of ways of choosing 3 out of 7 balls from a box, that number can be found by calling \n",
    "\n",
    "`scipy.special.comb(7,3)`\n",
    "\n",
    "\n",
    "Feel free to use `scipy.special.comb()` in this assignment.\n",
    "\n",
    "<br>\n",
    "\n",
    "In addition, if you want to compute factorial $n! = n\\cdot (n-1)\\cdot (n-2)\\cdot\\, \\dots \\, \\cdot 2\\cdot 1$, you can use \n",
    "\n",
    "`scipy.special.factorial(n)`\n",
    "\n",
    "<br>\n"
   ]
  },
  {
   "cell_type": "markdown",
   "metadata": {
    "deletable": false,
    "editable": false,
    "nbgrader": {
     "cell_type": "markdown",
     "checksum": "c4216d6c69f3acdde21d7590d691a599",
     "grade": false,
     "grade_id": "cell-ff4ef92dbc0a6172",
     "locked": true,
     "schema_version": 3,
     "solution": false,
     "task": false
    }
   },
   "source": [
    "### Question 1\n",
    "\n",
    "Two dice are cast. What is the probability that the sum of the two numbers is at least 10? \n",
    "\n",
    "Do NOT round your answer. Be catious! Make sure you count all outcomes.\n",
    "\n",
    "Write your answer as\n",
    "\n",
    "`ans = <some expression>`\n",
    "\n",
    "For example, if you think the answer is `1/36` you should create variable `ans` as\n",
    "\n",
    "`ans = 1/36`\n",
    "\n",
    "**IMPORTANT:** Just typing `1/36`, or `answer = 1/36` is not acceptable. Also, do NOT put dot at the end (this is a python code, not a sentence in English). Your answer will be graded automatically, and the test code expects you to create a Python variable called `ans`, and the code will test the value of `ans`.\n",
    "\n",
    "\n",
    "<br>\n"
   ]
  },
  {
   "cell_type": "code",
   "execution_count": 3,
   "metadata": {
    "deletable": false,
    "nbgrader": {
     "cell_type": "code",
     "checksum": "54101a0e1efd58467d57819c3d1f4b3f",
     "grade": false,
     "grade_id": "cell-f6023e5dd46727b2",
     "locked": false,
     "schema_version": 3,
     "solution": true,
     "task": false
    }
   },
   "outputs": [],
   "source": [
    "\n",
    "ans = 6/36\n"
   ]
  },
  {
   "cell_type": "code",
   "execution_count": 4,
   "metadata": {
    "deletable": false,
    "editable": false,
    "nbgrader": {
     "cell_type": "code",
     "checksum": "f64647016730e96411991fdb96de7d05",
     "grade": true,
     "grade_id": "cell-66b87fb61afca9a5",
     "locked": true,
     "points": 1,
     "schema_version": 3,
     "solution": false,
     "task": false
    }
   },
   "outputs": [],
   "source": [
    "\"\"\"Check whether the answer is numeric and from the interval [0,1] - since it's a probability\"\"\"\n",
    "\n",
    "assert isinstance(ans,float)\n",
    "assert (0 <= ans) & (ans <= 1)  , \"Sorry, the answer should be a probability, which means a number from [0,1]\"\n"
   ]
  },
  {
   "cell_type": "code",
   "execution_count": 5,
   "metadata": {
    "deletable": false,
    "editable": false,
    "nbgrader": {
     "cell_type": "code",
     "checksum": "df75beaf87b2318db8f3701f1da5a902",
     "grade": true,
     "grade_id": "cell-bff80c5cfb3c2b80",
     "locked": true,
     "points": 7,
     "schema_version": 3,
     "solution": false,
     "task": false
    }
   },
   "outputs": [
    {
     "data": {
      "text/plain": [
       "'Check whether the answer is correct (hidden test)'"
      ]
     },
     "execution_count": 5,
     "metadata": {},
     "output_type": "execute_result"
    }
   ],
   "source": [
    "\"\"\"Check whether the answer is correct (hidden test)\"\"\"\n",
    "\n"
   ]
  },
  {
   "cell_type": "markdown",
   "metadata": {
    "deletable": false,
    "editable": false,
    "nbgrader": {
     "cell_type": "markdown",
     "checksum": "091b444fca66e23d29d0e3fd33fb9d80",
     "grade": false,
     "grade_id": "cell-5ec07d91ba0b46ce",
     "locked": true,
     "schema_version": 3,
     "solution": false,
     "task": false
    }
   },
   "source": [
    "### Question 2\n",
    "\n",
    "Two dice are cast. What is the probability that the sum of the two numbers does not exceed 10 (i.e. is less than or equal to 10)? Do NOT round your answer.\n",
    "\n",
    "<br>\n",
    "\n",
    "Write your answer as\n",
    "\n",
    "`ans = <some expression>`\n",
    "\n",
    "<br>\n"
   ]
  },
  {
   "cell_type": "code",
   "execution_count": 6,
   "metadata": {
    "deletable": false,
    "nbgrader": {
     "cell_type": "code",
     "checksum": "aa07cea19f8cb35aba753502dd92b1a2",
     "grade": false,
     "grade_id": "cell-51b7dd2c4839fb7d",
     "locked": false,
     "schema_version": 3,
     "solution": true,
     "task": false
    }
   },
   "outputs": [],
   "source": [
    "\n",
    "ans = 33/36\n"
   ]
  },
  {
   "cell_type": "code",
   "execution_count": 7,
   "metadata": {
    "deletable": false,
    "editable": false,
    "nbgrader": {
     "cell_type": "code",
     "checksum": "acf7871f422d9715d92de3da81e9e93e",
     "grade": true,
     "grade_id": "cell-dd7567e4b92a7299",
     "locked": true,
     "points": 1,
     "schema_version": 3,
     "solution": false,
     "task": false
    }
   },
   "outputs": [],
   "source": [
    "\"\"\"Check whether the answer is numeric and from the interval [0,1] - since it's a probability\"\"\"\n",
    "\n",
    "assert isinstance(ans,float)\n",
    "assert (0 <= ans) & (ans <= 1)  , \"Sorry, the answer should be a probability, which means a number from [0,1]\"\n"
   ]
  },
  {
   "cell_type": "code",
   "execution_count": 8,
   "metadata": {
    "deletable": false,
    "editable": false,
    "nbgrader": {
     "cell_type": "code",
     "checksum": "688e49405b52a042a92eeb34b0b7fef4",
     "grade": true,
     "grade_id": "cell-5ba37b4795cab141",
     "locked": true,
     "points": 7,
     "schema_version": 3,
     "solution": false,
     "task": false
    }
   },
   "outputs": [
    {
     "data": {
      "text/plain": [
       "'Check whether the answer is correct (hidden test)'"
      ]
     },
     "execution_count": 8,
     "metadata": {},
     "output_type": "execute_result"
    }
   ],
   "source": [
    "\"\"\"Check whether the answer is correct (hidden test)\"\"\"\n",
    "\n"
   ]
  },
  {
   "cell_type": "markdown",
   "metadata": {
    "deletable": false,
    "editable": false,
    "nbgrader": {
     "cell_type": "markdown",
     "checksum": "70d3eb44b3e92c5f6f31aa009aebedd2",
     "grade": false,
     "grade_id": "cell-9f48ce2a001123e5",
     "locked": true,
     "schema_version": 3,
     "solution": false,
     "task": false
    }
   },
   "source": [
    "### Question 3\n",
    "\n",
    "What is the probability that in 4 coin tosses we get exactly two heads and two tails? Do NOT round.\n",
    "\n",
    "<br>\n",
    "\n",
    "Write your answer as\n",
    "\n",
    "`ans = <some expression>`\n",
    "\n",
    "<br>\n"
   ]
  },
  {
   "cell_type": "code",
   "execution_count": 9,
   "metadata": {
    "deletable": false,
    "nbgrader": {
     "cell_type": "code",
     "checksum": "b70891282595c1ab4a9e0cda3a781837",
     "grade": false,
     "grade_id": "cell-81782da06f5039bd",
     "locked": false,
     "schema_version": 3,
     "solution": true,
     "task": false
    }
   },
   "outputs": [],
   "source": [
    "\n",
    "ans = scipy.special.comb(4,2)/(2**4)\n"
   ]
  },
  {
   "cell_type": "code",
   "execution_count": 10,
   "metadata": {
    "deletable": false,
    "editable": false,
    "nbgrader": {
     "cell_type": "code",
     "checksum": "ef95549e07534a7e0398f7c69a7b7837",
     "grade": true,
     "grade_id": "cell-40ec419bf1c4739c",
     "locked": true,
     "points": 1,
     "schema_version": 3,
     "solution": false,
     "task": false
    }
   },
   "outputs": [],
   "source": [
    "\"\"\"Check whether the answer is numeric and from the interval [0,1] - since it's a probability\"\"\"\n",
    "\n",
    "assert isinstance(ans,float)\n",
    "assert (0 <= ans) & (ans <= 1)  , \"Sorry, the answer should be a probability, which means a number from [0,1]\"\n"
   ]
  },
  {
   "cell_type": "code",
   "execution_count": 11,
   "metadata": {
    "deletable": false,
    "editable": false,
    "nbgrader": {
     "cell_type": "code",
     "checksum": "465c9b28e1c4e33562aa943c2abdd942",
     "grade": true,
     "grade_id": "cell-84c09fbd9b42f199",
     "locked": true,
     "points": 1,
     "schema_version": 3,
     "solution": false,
     "task": false
    }
   },
   "outputs": [],
   "source": [
    "\"\"\"Check the accuracy up to rounding to the 1st decimal place\"\"\"\n",
    "\n",
    "assert round(ans,1) == 0.4  , \"Sorry, wrong answer\""
   ]
  },
  {
   "cell_type": "code",
   "execution_count": 12,
   "metadata": {
    "deletable": false,
    "editable": false,
    "nbgrader": {
     "cell_type": "code",
     "checksum": "3466c68ae661e2d739e4f2a1ee6dcc4a",
     "grade": true,
     "grade_id": "cell-fd92e4accd3c9d4e",
     "locked": true,
     "points": 6,
     "schema_version": 3,
     "solution": false,
     "task": false
    }
   },
   "outputs": [
    {
     "data": {
      "text/plain": [
       "'Check whether the answer is correct (hidden test)'"
      ]
     },
     "execution_count": 12,
     "metadata": {},
     "output_type": "execute_result"
    }
   ],
   "source": [
    "\"\"\"Check whether the answer is correct (hidden test)\"\"\"\n",
    "\n"
   ]
  },
  {
   "cell_type": "markdown",
   "metadata": {
    "deletable": false,
    "editable": false,
    "nbgrader": {
     "cell_type": "markdown",
     "checksum": "9ed0bac17cd753b73690d86121e7170a",
     "grade": false,
     "grade_id": "cell-69ea38d4806fbac8",
     "locked": true,
     "schema_version": 3,
     "solution": false,
     "task": false
    }
   },
   "source": [
    "### Question 4\n",
    "\n",
    "Twenty five elks live in a certain area of which 6 were tagged and released. A certain time later, 5 elks were randomly caught. Assume all 25 elks were equally likely to be caught. What is the probability that exactly 2 of these 5 elks caught were previously tagged? Do NOT round.\n",
    "\n",
    "<br>\n",
    "\n",
    "Write your answer as\n",
    "\n",
    "`ans = <some expression>`\n",
    "\n",
    "<br>\n",
    "\n"
   ]
  },
  {
   "cell_type": "code",
   "execution_count": 13,
   "metadata": {
    "deletable": false,
    "nbgrader": {
     "cell_type": "code",
     "checksum": "23621ef85f567061a9c926f7e68cefaa",
     "grade": false,
     "grade_id": "cell-767bfd46dad418e0",
     "locked": false,
     "schema_version": 3,
     "solution": true,
     "task": false
    }
   },
   "outputs": [],
   "source": [
    "\n",
    "ans = (scipy.special.comb(6,2)*scipy.special.comb(19,3))/scipy.special.comb(25,5)\n"
   ]
  },
  {
   "cell_type": "code",
   "execution_count": 14,
   "metadata": {
    "deletable": false,
    "editable": false,
    "nbgrader": {
     "cell_type": "code",
     "checksum": "0d821851b2e5a63a694dad29d450311f",
     "grade": true,
     "grade_id": "cell-30cc2f0253090d26",
     "locked": true,
     "points": 1,
     "schema_version": 3,
     "solution": false,
     "task": false
    }
   },
   "outputs": [],
   "source": [
    "\"\"\"Check whether the answer is numeric and from the interval [0,1] - since it's a probability\"\"\"\n",
    "\n",
    "assert isinstance(ans,float)\n",
    "assert (0 <= ans) & (ans <= 1)  , \"Sorry, the answer should be a probability, which means a number from [0,1]\"\n"
   ]
  },
  {
   "cell_type": "code",
   "execution_count": 15,
   "metadata": {
    "deletable": false,
    "editable": false,
    "nbgrader": {
     "cell_type": "code",
     "checksum": "82f4d306c6797f3d4ad5934a0fb768df",
     "grade": true,
     "grade_id": "cell-012f5d7c9064e9ef",
     "locked": true,
     "points": 2,
     "schema_version": 3,
     "solution": false,
     "task": false
    }
   },
   "outputs": [],
   "source": [
    "\"\"\"Check the accuracy up to rounding to the 1st decimal place\"\"\"\n",
    "\n",
    "assert round(ans,1) == 0.3  , \"Sorry, wrong answer\""
   ]
  },
  {
   "cell_type": "code",
   "execution_count": 16,
   "metadata": {
    "deletable": false,
    "editable": false,
    "nbgrader": {
     "cell_type": "code",
     "checksum": "9b830019ab9d376add5c12ee88de1e17",
     "grade": true,
     "grade_id": "cell-2fe88bfa597b3915",
     "locked": true,
     "points": 6,
     "schema_version": 3,
     "solution": false,
     "task": false
    }
   },
   "outputs": [
    {
     "data": {
      "text/plain": [
       "'Check whether the answer is correct (hidden test)'"
      ]
     },
     "execution_count": 16,
     "metadata": {},
     "output_type": "execute_result"
    }
   ],
   "source": [
    "\"\"\"Check whether the answer is correct (hidden test)\"\"\"\n",
    "\n"
   ]
  },
  {
   "cell_type": "markdown",
   "metadata": {
    "deletable": false,
    "editable": false,
    "nbgrader": {
     "cell_type": "markdown",
     "checksum": "f51abd26544119f1bee5c63c5313b1dd",
     "grade": false,
     "grade_id": "cell-985de302db35fd14",
     "locked": true,
     "schema_version": 3,
     "solution": false,
     "task": false
    }
   },
   "source": [
    "### Question 5\n",
    "\n",
    "You pick 2 cards from a regular deck of 52 cards. What is the probability that both of them are aces? Do NOT round your answer.\n",
    "\n",
    "(Recall that a regular deck of 52 cards consists of 13 kinds/denominations, each having 4 suits: <font color=\"red\">&hearts;, &diams;</font>, &clubs; &spades;.)\n",
    "\n",
    "<br>\n",
    "\n",
    "Write your answer as\n",
    "\n",
    "`ans = <some expression>`\n",
    "\n",
    "<br>\n"
   ]
  },
  {
   "cell_type": "code",
   "execution_count": 17,
   "metadata": {
    "deletable": false,
    "nbgrader": {
     "cell_type": "code",
     "checksum": "479537afd6d994aa92821bf1b3fe9a40",
     "grade": false,
     "grade_id": "cell-bbda68dc4b2132bd",
     "locked": false,
     "schema_version": 3,
     "solution": true,
     "task": false
    }
   },
   "outputs": [],
   "source": [
    "\n",
    "ans = scipy.special.comb(4,2)/scipy.special.comb(52,2)\n"
   ]
  },
  {
   "cell_type": "code",
   "execution_count": 18,
   "metadata": {
    "deletable": false,
    "editable": false,
    "nbgrader": {
     "cell_type": "code",
     "checksum": "18aaab19988c25358b5c24feeab1b045",
     "grade": true,
     "grade_id": "cell-58245af72aab38ed",
     "locked": true,
     "points": 1,
     "schema_version": 3,
     "solution": false,
     "task": false
    }
   },
   "outputs": [],
   "source": [
    "\"\"\"Check whether the answer is numeric and from the interval [0,1] - since it's a probability\"\"\"\n",
    "\n",
    "assert isinstance(ans,float)\n",
    "assert (0 <= ans) & (ans <= 1)  , \"Sorry, the answer should be a probability, which means a number from [0,1]\"\n"
   ]
  },
  {
   "cell_type": "code",
   "execution_count": 19,
   "metadata": {
    "deletable": false,
    "editable": false,
    "nbgrader": {
     "cell_type": "code",
     "checksum": "dca0c2e8a872b7bc37fbabe4fcd76479",
     "grade": true,
     "grade_id": "cell-0445ee461dd2e396",
     "locked": true,
     "points": 7,
     "schema_version": 3,
     "solution": false,
     "task": false
    }
   },
   "outputs": [
    {
     "data": {
      "text/plain": [
       "'Check whether the answer is correct (hidden test)'"
      ]
     },
     "execution_count": 19,
     "metadata": {},
     "output_type": "execute_result"
    }
   ],
   "source": [
    "\"\"\"Check whether the answer is correct (hidden test)\"\"\"\n",
    "\n"
   ]
  },
  {
   "cell_type": "markdown",
   "metadata": {
    "deletable": false,
    "editable": false,
    "nbgrader": {
     "cell_type": "markdown",
     "checksum": "f3920bd0d0780a59d3ea10eb7733220f",
     "grade": false,
     "grade_id": "cell-9404e0288ab16846",
     "locked": true,
     "schema_version": 3,
     "solution": false,
     "task": false
    }
   },
   "source": [
    "### Question 6\n",
    "\n",
    "Five cards are dealt from a regular deck of 52 cards. What is the probability of getting a full house: three cards of one kind and two of another kind? Do NOT round your answer. \n",
    "\n",
    "(Recall that a regular deck of 52 cards consists of 13 kinds/denominations, each having 4 suits: <font color=\"red\">&hearts;, &diams;</font>, &clubs; &spades;.)\n",
    "\n",
    "<br>\n",
    "\n",
    "Write your answer as\n",
    "\n",
    "`ans = <some expression>`\n",
    "\n",
    "<br>\n",
    "\n",
    "\n"
   ]
  },
  {
   "cell_type": "code",
   "execution_count": 20,
   "metadata": {
    "deletable": false,
    "nbgrader": {
     "cell_type": "code",
     "checksum": "c4ea5700809084f6be33988120009654",
     "grade": false,
     "grade_id": "cell-a10b3d248b7ec37b",
     "locked": false,
     "schema_version": 3,
     "solution": true,
     "task": false
    }
   },
   "outputs": [],
   "source": [
    "\n",
    "ans = (2*scipy.special.comb(13,2)*scipy.special.comb(4,3)*scipy.special.comb(4,2))/scipy.special.comb(52,5)\n"
   ]
  },
  {
   "cell_type": "code",
   "execution_count": 21,
   "metadata": {
    "deletable": false,
    "editable": false,
    "nbgrader": {
     "cell_type": "code",
     "checksum": "7430e81cedfd8bd863fb42d14226e214",
     "grade": true,
     "grade_id": "cell-878482512d275b36",
     "locked": true,
     "points": 1,
     "schema_version": 3,
     "solution": false,
     "task": false
    }
   },
   "outputs": [],
   "source": [
    "\"\"\"Check whether the answer is numeric and from the interval [0,1] - since it's a probability\"\"\"\n",
    "\n",
    "assert isinstance(ans,float)\n",
    "assert (0 <= ans) & (ans <= 1)  , \"Sorry, the answer should be a probability, which means a number from [0,1]\"\n"
   ]
  },
  {
   "cell_type": "code",
   "execution_count": 22,
   "metadata": {
    "deletable": false,
    "editable": false,
    "nbgrader": {
     "cell_type": "code",
     "checksum": "6fde71e9946cfe15ae7c2492e5f9972a",
     "grade": true,
     "grade_id": "cell-eb2c651ea089c19e",
     "locked": true,
     "points": 2,
     "schema_version": 3,
     "solution": false,
     "task": false
    }
   },
   "outputs": [],
   "source": [
    "\"\"\"Check the accuracy up to rounding to the 1st decimal place\"\"\"\n",
    "\n",
    "assert round(ans,4) == 0.0014   ,  \"Sorry, wrong answer\""
   ]
  },
  {
   "cell_type": "code",
   "execution_count": 23,
   "metadata": {
    "deletable": false,
    "editable": false,
    "nbgrader": {
     "cell_type": "code",
     "checksum": "621a48335339e72ada4ee96ffb12d231",
     "grade": true,
     "grade_id": "cell-02b027b15987404f",
     "locked": true,
     "points": 6,
     "schema_version": 3,
     "solution": false,
     "task": false
    }
   },
   "outputs": [
    {
     "data": {
      "text/plain": [
       "'Check whether the answer is correct (hidden test)'"
      ]
     },
     "execution_count": 23,
     "metadata": {},
     "output_type": "execute_result"
    }
   ],
   "source": [
    "\"\"\"Check whether the answer is correct (hidden test)\"\"\"\n",
    "\n"
   ]
  }
 ],
 "metadata": {
  "kernelspec": {
   "display_name": "Python 3",
   "language": "python",
   "name": "python3"
  },
  "language_info": {
   "codemirror_mode": {
    "name": "ipython",
    "version": 3
   },
   "file_extension": ".py",
   "mimetype": "text/x-python",
   "name": "python",
   "nbconvert_exporter": "python",
   "pygments_lexer": "ipython3",
   "version": "3.8.10"
  }
 },
 "nbformat": 4,
 "nbformat_minor": 4
}
